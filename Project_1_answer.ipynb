{
 "cells": [
  {
   "cell_type": "markdown",
   "metadata": {},
   "source": [
    "# Project 1: Data Science & Python Fundamentals\n",
    "\n",
    "_Authors: Preriit Souda _\n",
    "\n",
    "---"
   ]
  },
  {
   "cell_type": "markdown",
   "metadata": {},
   "source": [
    "**Welcome to the first assignment of DataScience Fundamentals.**\n",
    "\n",
    "All of the questions below can be answered using the content we studied till date. You already know it. Relax and get started. You will breeze through this assignment. \n",
    "\n",
    "Use of pseudocode can be helpful in your process. \n",
    "\n",
    "If you need any help, feel free to ping the instructional team. \n",
    "\n",
    "Please submit this assignment in a week's time (17 May 2022, 23:59 BST). If you need additional time, please Instructional Associates. \n",
    "\n",
    "All the Best. "
   ]
  },
  {
   "cell_type": "markdown",
   "metadata": {},
   "source": [
    "### 1) Real World Situation: \n",
    "\n",
    "You have been invited to advise a local ethinic restaurant chain (6 restaurants in London). The chain serves indian food and had 10% yoy growth for last 6 years. Lately, its sales have been falling. \n",
    "\n",
    "Restaurant owner has asked for your help. To get started, can you define the objectives of this work and suggest data sources you would need, why you would need and probable problems you might encounter in getting hold of your desired datasets.\n",
    "\n"
   ]
  },
  {
   "cell_type": "code",
   "execution_count": 1,
   "metadata": {},
   "outputs": [],
   "source": [
    "#A: The objective of this work it is to find out why the sales have been falling. \n",
    "#At first, I would like to have the sales by product for the last 6 years to check which ones have fallen the most. This should be easy if they have propper detail in the till. \n",
    "#After that I would like to try to check busy hours and how they changed.Again should be easy with a propper till information.\n",
    "#Would be great to check comments in social media as well in order to find complains.\n",
    "#Finally, if it is possible try to figure out wich kind of customers I have maybe with some point card to get their personal details.\n",
    "#All this information can help me to understand my customers, how their choices changed,what they like,what they don't like anymore. If I understand all this information could be possible to take action on the weak points maybe with marketing in order to improve the sales.\n",
    "\n",
    "\n"
   ]
  },
  {
   "cell_type": "markdown",
   "metadata": {},
   "source": [
    "### 2) Please list important steps in Data Science Worflow?"
   ]
  },
  {
   "cell_type": "code",
   "execution_count": 2,
   "metadata": {},
   "outputs": [],
   "source": [
    "#A: Frame, prepare,analyze,interpret,communicate.\n",
    "\n"
   ]
  },
  {
   "cell_type": "markdown",
   "metadata": {},
   "source": [
    "### 3) What are the two categories of Supervised Learning? \n",
    "\n"
   ]
  },
  {
   "cell_type": "code",
   "execution_count": 3,
   "metadata": {},
   "outputs": [],
   "source": [
    "#A: Classification and regression: both use data from the past(input) to predict a result(output) but the result con be a category or a number."
   ]
  },
  {
   "cell_type": "markdown",
   "metadata": {},
   "source": [
    "---\n",
    "\n",
    "### 4) Write a function that takes the height and width of a triangle and returns the area."
   ]
  },
  {
   "cell_type": "code",
   "execution_count": 2,
   "metadata": {},
   "outputs": [],
   "source": [
    "def Area(h,w):\n",
    "    area=(h*w)/2\n",
    "    return area"
   ]
  },
  {
   "cell_type": "code",
   "execution_count": 3,
   "metadata": {},
   "outputs": [
    {
     "data": {
      "text/plain": [
       "7.5"
      ]
     },
     "execution_count": 3,
     "metadata": {},
     "output_type": "execute_result"
    }
   ],
   "source": [
    "Area(3,5)"
   ]
  },
  {
   "cell_type": "markdown",
   "metadata": {},
   "source": [
    "### 5) Iterate from 1 to 15, printing whether the number is odd or even.\n",
    "\n",
    "Hint: Look at operators. A lesser used operator. "
   ]
  },
  {
   "cell_type": "code",
   "execution_count": 1,
   "metadata": {},
   "outputs": [
    {
     "name": "stdout",
     "output_type": "stream",
     "text": [
      "1 = Odd\n",
      "2 = Even\n",
      "3 = Odd\n",
      "4 = Even\n",
      "5 = Odd\n",
      "6 = Even\n",
      "7 = Odd\n",
      "8 = Even\n",
      "9 = Odd\n",
      "10 = Even\n",
      "11 = Odd\n",
      "12 = Even\n",
      "13 = Odd\n",
      "14 = Even\n",
      "15 = Odd\n"
     ]
    }
   ],
   "source": [
    "\n",
    "for i in range(1,16):\n",
    "    if i%2 == 0 :\n",
    "        print(i,'= Even')\n",
    "    else :\n",
    "        print(i,'= Odd')\n",
    "    \n",
    "    "
   ]
  },
  {
   "cell_type": "markdown",
   "metadata": {},
   "source": [
    "### 6) Write a small program which converts Miles to Kilometers \n",
    "\n",
    "Ask the user to enter miles, check whether it is a float, do the calculation, and the program returns kilometers which is printed. Use try and except block to handle wrong data types. \n",
    "\n",
    "FYI: 1 Mile = 1.6 Kilometers"
   ]
  },
  {
   "cell_type": "code",
   "execution_count": 201,
   "metadata": {},
   "outputs": [
    {
     "name": "stdout",
     "output_type": "stream",
     "text": [
      "Miles:100\n",
      "Kilometers =  160.0\n"
     ]
    }
   ],
   "source": [
    "inp = input(\"Miles:\")\n",
    "\n",
    "try:\n",
    "    miles = float(inp)\n",
    "    \n",
    "    kilometers= miles*1.6\n",
    "    \n",
    "    print(\"Kilometers = \",kilometers)\n",
    "    \n",
    "    \n",
    "\n",
    "except: \n",
    "    print(\"Please input a number of miles\")\n"
   ]
  },
  {
   "cell_type": "markdown",
   "metadata": {},
   "source": [
    "### 7) Write a program giving recommendations basis weather conditions\n",
    "\n",
    "Create a variable Temperature and print out these recommendations based on the temperature:\n",
    "                 \n",
    "1) The temperature is higher than 90 degrees: Avoid getting out.          \n",
    "2) The temperature is between 89 and 70: Bring an umbrella.            \n",
    "3) The temperature is between 69 and 45: Wear a T-shirt.        \n",
    "4) The temperature is lower than 44: Bring a jacket.           "
   ]
  },
  {
   "cell_type": "code",
   "execution_count": 203,
   "metadata": {},
   "outputs": [
    {
     "name": "stdout",
     "output_type": "stream",
     "text": [
      "Wear a T-shirt\n"
     ]
    }
   ],
   "source": [
    "temperature = 69\n",
    "\n",
    "if temperature >= 90:\n",
    "    print(\"Avoid getting out\")\n",
    "elif (temperature<=89 and temperature>=70):\n",
    "    print(\"Bring an umbrella\")\n",
    "elif (temperature<=69 and temperature>=45):\n",
    "    print(\"Wear a T-shirt\")\n",
    "elif (temperature<=44):\n",
    "    print(\"Bring a jacket\")\n",
    "\n"
   ]
  },
  {
   "cell_type": "markdown",
   "metadata": {},
   "source": [
    "### 8) Write a program to convert score to grades\n",
    "\n",
    "Write a program to prompt the user for a score between 0 to 100. If the score is out of range, print an error. If the score is between 0 and 100, use the following slabs(score, grade): \n",
    "     \n",
    " greater than 90 A     \n",
    "<90 and >=80 B     \n",
    "<80 and >=70 B    \n",
    "<70 and >=60 C    \n",
    "<60 and >=50 D    \n",
    "<50 E    \n"
   ]
  },
  {
   "cell_type": "code",
   "execution_count": 206,
   "metadata": {},
   "outputs": [
    {
     "name": "stdout",
     "output_type": "stream",
     "text": [
      "Insert a score between 0 to 100: 100\n",
      "Yor grade is: A\n"
     ]
    }
   ],
   "source": [
    "inp = input(\"Insert a score between 0 to 100: \")\n",
    " \n",
    "score= int(inp)\n",
    "if score >= 90 and score<=100:\n",
    "    print(\"Yor grade is: A\")\n",
    "elif score <90 and score >=80:\n",
    "    print(\"Yor grade is: B\")\n",
    "elif score <80 and score >=70:\n",
    "    print(\"Yor grade is: B\")\n",
    "elif score <70 and score >=60:\n",
    "    print(\"Yor grade is: C\")\n",
    "elif score <60 and score >=50:\n",
    "    print(\"Yor grade is: D\")\n",
    "elif 0<score <50:\n",
    "    print(\"Yor grade is: E\")\n",
    "elif score>100 or score<0:\n",
    "    print(\"Error! Insert a score between 0 to 100\")\n",
    "    "
   ]
  },
  {
   "cell_type": "markdown",
   "metadata": {},
   "source": [
    "---\n",
    "\n",
    "### 9) Iterate through the following list of animals and print each one in all caps.\n",
    "\n",
    "animals = ['duck', 'rat', 'boar', 'slug', 'mammoth', 'gazelle']"
   ]
  },
  {
   "cell_type": "code",
   "execution_count": 51,
   "metadata": {},
   "outputs": [
    {
     "name": "stdout",
     "output_type": "stream",
     "text": [
      "DUCK\n",
      "RAT\n",
      "BOAR\n",
      "SLUG\n",
      "MAMMOTH\n",
      "GAZELLE\n"
     ]
    }
   ],
   "source": [
    "animals = ['duck', 'rat', 'boar', 'slug', 'mammoth', 'gazelle']\n",
    "\n",
    "for i in animals:\n",
    "    Caps = i.upper()\n",
    "    print(Caps)\n"
   ]
  },
  {
   "cell_type": "markdown",
   "metadata": {
    "collapsed": true
   },
   "source": [
    "### 10) Write a function that takes a word as an argument and returns the number of vowels in the word.\n",
    "\n",
    "Try it out on three words."
   ]
  },
  {
   "cell_type": "code",
   "execution_count": 113,
   "metadata": {},
   "outputs": [],
   "source": [
    "def Num_of_Vowels(word):\n",
    "    count=0\n",
    "    word = str(word)\n",
    "    for i in word:\n",
    "        if i in \"AEIOUaeiou\": \n",
    "            count=count + 1\n",
    "       \n",
    "    print(count)        \n",
    "        \n",
    "        \n",
    "        \n"
   ]
  },
  {
   "cell_type": "code",
   "execution_count": 118,
   "metadata": {},
   "outputs": [
    {
     "name": "stdout",
     "output_type": "stream",
     "text": [
      "2\n"
     ]
    }
   ],
   "source": [
    "Num_of_Vowels(\"Summer\")"
   ]
  },
  {
   "cell_type": "code",
   "execution_count": 143,
   "metadata": {},
   "outputs": [
    {
     "name": "stdout",
     "output_type": "stream",
     "text": [
      "3\n"
     ]
    }
   ],
   "source": [
    "Num_of_Vowels(\"Anana\")"
   ]
  },
  {
   "cell_type": "code",
   "execution_count": 144,
   "metadata": {},
   "outputs": [
    {
     "name": "stdout",
     "output_type": "stream",
     "text": [
      "2\n"
     ]
    }
   ],
   "source": [
    "Num_of_Vowels(\"proyect\")"
   ]
  },
  {
   "cell_type": "markdown",
   "metadata": {},
   "source": [
    "### 11) Extracting part of a string \n",
    "\n",
    "We have a string which reads as follows: \"From alex.chicote@generalassemb.ly Sat Jul 19 18:46:90\"      \n",
    "We want to extract generalassemb.ly from this string. Can you do this? \n",
    "\n",
    "Hint: Look at a string method called find and use it in conjunction with index; space is indicated by ' '\n",
    "https://www.w3schools.com/python/ref_string_find.asp"
   ]
  },
  {
   "cell_type": "code",
   "execution_count": 126,
   "metadata": {},
   "outputs": [
    {
     "name": "stdout",
     "output_type": "stream",
     "text": [
      "33\n"
     ]
    }
   ],
   "source": [
    "txt=\"From alex.chicote@generalassemb.ly Sat Jul 19 18:46:90\"\n",
    "x= txt.find(\"y\")\n",
    "print(x)"
   ]
  },
  {
   "cell_type": "code",
   "execution_count": 122,
   "metadata": {},
   "outputs": [
    {
     "data": {
      "text/plain": [
       "'generalassemb.ly'"
      ]
     },
     "execution_count": 122,
     "metadata": {},
     "output_type": "execute_result"
    }
   ],
   "source": [
    "email=\"From alex.chicote@generalassemb.ly Sat Jul 19 18:46:90\"\n",
    "email[18:34]"
   ]
  },
  {
   "cell_type": "markdown",
   "metadata": {},
   "source": [
    "### 12) Creating a function called ChopChop \n",
    "\n",
    "Write a function called ChopChop that takes a list, removes the first and the last elements and returns back the list \n"
   ]
  },
  {
   "cell_type": "code",
   "execution_count": 151,
   "metadata": {},
   "outputs": [],
   "source": [
    "i=[]\n",
    "def ChopChop(i):\n",
    "    chopped_list = [i.pop(0) , i.pop(-1)]\n",
    "    print(i)\n",
    "    \n",
    "    "
   ]
  },
  {
   "cell_type": "code",
   "execution_count": 153,
   "metadata": {},
   "outputs": [
    {
     "name": "stdout",
     "output_type": "stream",
     "text": [
      "[2, 3, 4, 5, 6, 7, 8]\n"
     ]
    }
   ],
   "source": [
    "i=[1,2,3,4,5,6,7,8,9]\n",
    "ChopChop(i)"
   ]
  },
  {
   "cell_type": "code",
   "execution_count": 154,
   "metadata": {},
   "outputs": [
    {
     "name": "stdout",
     "output_type": "stream",
     "text": [
      "['blue', 'green', 'yellow']\n"
     ]
    }
   ],
   "source": [
    "i=[\"red\",\"blue\",\"green\",\"yellow\",\"orange\"]\n",
    "ChopChop(i)"
   ]
  },
  {
   "cell_type": "markdown",
   "metadata": {},
   "source": [
    "### 13) Multiples of 3 and 5\n",
    "\n",
    "If we list all of the natural numbers below 10 that are multiples of 3 or 5, we get 3, 5, 6, and 9. The sum of these multiples is 23. Find the sum of all the multiples of 3 and 5 below 1,000. Afterward, write a brief explanation walking through your code's logic in markdown."
   ]
  },
  {
   "cell_type": "code",
   "execution_count": 211,
   "metadata": {},
   "outputs": [
    {
     "name": "stdout",
     "output_type": "stream",
     "text": [
      "233168\n"
     ]
    }
   ],
   "source": [
    "sum=0                                          #sum always starts on 0\n",
    "for i in range(1,1000):                       \n",
    "    if i%3 ==0 or i%5 ==0:                    # Check the multiples of 3 and 5 below 1000\n",
    "        sum= sum+i                            # We have to sum them\n",
    "print (sum)                                   #print the result\n",
    "   "
   ]
  },
  {
   "cell_type": "markdown",
   "metadata": {},
   "source": [
    "### 14) FizzBuzz\n",
    "\n",
    "Write a program that prints all of the numbers from 1 to 100. For multiples of 3, instead of the number, print \"Fizz;\" for multiples of 5, print \"Buzz.\" For numbers that are multiples of both 3 and 5, print \"FizzBuzz.\" Afterward, write a brief explanation walking through your code's logic in markdown."
   ]
  },
  {
   "cell_type": "code",
   "execution_count": 200,
   "metadata": {},
   "outputs": [
    {
     "name": "stdout",
     "output_type": "stream",
     "text": [
      "1\n",
      "2\n",
      "Fizz\n",
      "4\n",
      "Buzz\n",
      "Fizz\n",
      "7\n",
      "8\n",
      "Fizz\n",
      "Buzz\n",
      "11\n",
      "Fizz\n",
      "13\n",
      "14\n",
      "FizzBuzz\n",
      "16\n",
      "17\n",
      "Fizz\n",
      "19\n",
      "Buzz\n",
      "Fizz\n",
      "22\n",
      "23\n",
      "Fizz\n",
      "Buzz\n",
      "26\n",
      "Fizz\n",
      "28\n",
      "29\n",
      "FizzBuzz\n",
      "31\n",
      "32\n",
      "Fizz\n",
      "34\n",
      "Buzz\n",
      "Fizz\n",
      "37\n",
      "38\n",
      "Fizz\n",
      "Buzz\n",
      "41\n",
      "Fizz\n",
      "43\n",
      "44\n",
      "FizzBuzz\n",
      "46\n",
      "47\n",
      "Fizz\n",
      "49\n",
      "Buzz\n",
      "Fizz\n",
      "52\n",
      "53\n",
      "Fizz\n",
      "Buzz\n",
      "56\n",
      "Fizz\n",
      "58\n",
      "59\n",
      "FizzBuzz\n",
      "61\n",
      "62\n",
      "Fizz\n",
      "64\n",
      "Buzz\n",
      "Fizz\n",
      "67\n",
      "68\n",
      "Fizz\n",
      "Buzz\n",
      "71\n",
      "Fizz\n",
      "73\n",
      "74\n",
      "FizzBuzz\n",
      "76\n",
      "77\n",
      "Fizz\n",
      "79\n",
      "Buzz\n",
      "Fizz\n",
      "82\n",
      "83\n",
      "Fizz\n",
      "Buzz\n",
      "86\n",
      "Fizz\n",
      "88\n",
      "89\n",
      "FizzBuzz\n",
      "91\n",
      "92\n",
      "Fizz\n",
      "94\n",
      "Buzz\n",
      "Fizz\n",
      "97\n",
      "98\n",
      "Fizz\n"
     ]
    }
   ],
   "source": [
    "for i in range(1,100):              #First, I use the range 1 to 100\n",
    "    if i%3 == 0 and i%5 ==0:        # I use firstly the join of the conditions\n",
    "        print(\"FizzBuzz\")\n",
    "    elif i%5 == 0:                 # In case the first is False, I try the conditions separate\n",
    "        print(\"Buzz\")\n",
    "    elif i%3 == 0:\n",
    "        print(\"Fizz\")\n",
    "    else:\n",
    "        print(i)                 #If the condition is not met it will print the number."
   ]
  },
  {
   "cell_type": "markdown",
   "metadata": {
    "collapsed": true
   },
   "source": [
    "### Use of Git Bash \n",
    "\n",
    "If you are using Git Bash to submit this notebook, please send screenshots of each step (along with your notebook). You might able to garner bonus fractional-points for the use of Git Bash. \n",
    "\n",
    "Please note that this is not a compulsory challenge and does not guarrantee an additional point. "
   ]
  },
  {
   "cell_type": "markdown",
   "metadata": {},
   "source": [
    "## That's all. You are a star! "
   ]
  }
 ],
 "metadata": {
  "anaconda-cloud": {},
  "kernelspec": {
   "display_name": "Python 3 (ipykernel)",
   "language": "python",
   "name": "python3"
  },
  "language_info": {
   "codemirror_mode": {
    "name": "ipython",
    "version": 3
   },
   "file_extension": ".py",
   "mimetype": "text/x-python",
   "name": "python",
   "nbconvert_exporter": "python",
   "pygments_lexer": "ipython3",
   "version": "3.9.7"
  }
 },
 "nbformat": 4,
 "nbformat_minor": 2
}
