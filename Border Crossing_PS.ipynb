{
 "cells": [
  {
   "cell_type": "markdown",
   "metadata": {},
   "source": [
    "<img src=\"http://imgur.com/1ZcRyrc.png\" style=\"float: left; margin: 20px; height: 55px\">\n",
    "\n",
    "# Option 3: Analyzing Border Crossing Data\n",
    "\n",
    "_Author: Preriit Souda_"
   ]
  },
  {
   "cell_type": "markdown",
   "metadata": {},
   "source": [
    "\n",
    "For these exercises, you will conduct basic exploratory data analysis on border crossing data. It contains data from the US govt on border crossings into the US. It’s a modified sample data containing border crossings in the first 12 days of January from 2008-2020.\n",
    "\n",
    "The Border Crossing data set is taken from Kaggle and modified (reduced in size) for ease of use in this course. \n",
    "\n",
    "The dataset includes: Port Name, State, Port Code, Border, Date of crossing, Type of vehicle and Value\n"
   ]
  },
  {
   "cell_type": "markdown",
   "metadata": {},
   "source": [
    "Lets start with all the imports"
   ]
  },
  {
   "cell_type": "code",
   "execution_count": 1,
   "metadata": {},
   "outputs": [],
   "source": [
    "# Imports\n",
    "import pandas as pd # Load Pandas into Python\n",
    "\n",
    "import numpy as np  # Load Numpy into Python module used for scientific computing\n",
    "\n",
    "import seaborn as sns   #For data visualization. Seaborn is created on top of Matplotlib\n",
    "\n",
    "from matplotlib import pyplot as plt #viz package from Matplotlib"
   ]
  },
  {
   "cell_type": "code",
   "execution_count": 2,
   "metadata": {},
   "outputs": [],
   "source": [
    "bc= pd.read_excel(\"C:/Users/Gladys/Documents/1.Data Science Course/8. Class 8 - Project 2/data/BorderCrossings_USA_PS.xlsx\")"
   ]
  },
  {
   "cell_type": "markdown",
   "metadata": {},
   "source": [
    "**Q1- Read in the file**"
   ]
  },
  {
   "cell_type": "code",
   "execution_count": 24,
   "metadata": {},
   "outputs": [
    {
     "data": {
      "text/html": [
       "<div>\n",
       "<style scoped>\n",
       "    .dataframe tbody tr th:only-of-type {\n",
       "        vertical-align: middle;\n",
       "    }\n",
       "\n",
       "    .dataframe tbody tr th {\n",
       "        vertical-align: top;\n",
       "    }\n",
       "\n",
       "    .dataframe thead th {\n",
       "        text-align: right;\n",
       "    }\n",
       "</style>\n",
       "<table border=\"1\" class=\"dataframe\">\n",
       "  <thead>\n",
       "    <tr style=\"text-align: right;\">\n",
       "      <th></th>\n",
       "      <th>Port Name</th>\n",
       "      <th>State</th>\n",
       "      <th>Port Code</th>\n",
       "      <th>Border</th>\n",
       "      <th>Date</th>\n",
       "      <th>Measure</th>\n",
       "      <th>Value</th>\n",
       "    </tr>\n",
       "  </thead>\n",
       "  <tbody>\n",
       "    <tr>\n",
       "      <th>0</th>\n",
       "      <td>Alcan</td>\n",
       "      <td>AK</td>\n",
       "      <td>3104</td>\n",
       "      <td>US-Canada Border</td>\n",
       "      <td>2020-01-02</td>\n",
       "      <td>Personal Vehicle Passengers</td>\n",
       "      <td>1414</td>\n",
       "    </tr>\n",
       "    <tr>\n",
       "      <th>1</th>\n",
       "      <td>Alcan</td>\n",
       "      <td>AK</td>\n",
       "      <td>3104</td>\n",
       "      <td>US-Canada Border</td>\n",
       "      <td>2020-01-02</td>\n",
       "      <td>Personal Vehicles</td>\n",
       "      <td>763</td>\n",
       "    </tr>\n",
       "    <tr>\n",
       "      <th>2</th>\n",
       "      <td>Alcan</td>\n",
       "      <td>AK</td>\n",
       "      <td>3104</td>\n",
       "      <td>US-Canada Border</td>\n",
       "      <td>2020-01-02</td>\n",
       "      <td>Truck Containers Empty</td>\n",
       "      <td>412</td>\n",
       "    </tr>\n",
       "    <tr>\n",
       "      <th>3</th>\n",
       "      <td>Alcan</td>\n",
       "      <td>AK</td>\n",
       "      <td>3104</td>\n",
       "      <td>US-Canada Border</td>\n",
       "      <td>2020-01-02</td>\n",
       "      <td>Truck Containers Full</td>\n",
       "      <td>122</td>\n",
       "    </tr>\n",
       "    <tr>\n",
       "      <th>4</th>\n",
       "      <td>Alcan</td>\n",
       "      <td>AK</td>\n",
       "      <td>3104</td>\n",
       "      <td>US-Canada Border</td>\n",
       "      <td>2020-01-02</td>\n",
       "      <td>Trucks</td>\n",
       "      <td>545</td>\n",
       "    </tr>\n",
       "    <tr>\n",
       "      <th>...</th>\n",
       "      <td>...</td>\n",
       "      <td>...</td>\n",
       "      <td>...</td>\n",
       "      <td>...</td>\n",
       "      <td>...</td>\n",
       "      <td>...</td>\n",
       "      <td>...</td>\n",
       "    </tr>\n",
       "    <tr>\n",
       "      <th>187854</th>\n",
       "      <td>Presidio</td>\n",
       "      <td>TX</td>\n",
       "      <td>2403</td>\n",
       "      <td>US-Mexico Border</td>\n",
       "      <td>2007-01-01</td>\n",
       "      <td>Buses</td>\n",
       "      <td>0</td>\n",
       "    </tr>\n",
       "    <tr>\n",
       "      <th>187855</th>\n",
       "      <td>Van Buren</td>\n",
       "      <td>ME</td>\n",
       "      <td>108</td>\n",
       "      <td>US-Canada Border</td>\n",
       "      <td>2007-01-01</td>\n",
       "      <td>Rail Containers Empty</td>\n",
       "      <td>208</td>\n",
       "    </tr>\n",
       "    <tr>\n",
       "      <th>187856</th>\n",
       "      <td>Danville</td>\n",
       "      <td>WA</td>\n",
       "      <td>3012</td>\n",
       "      <td>US-Canada Border</td>\n",
       "      <td>2007-01-01</td>\n",
       "      <td>Bus Passengers</td>\n",
       "      <td>113</td>\n",
       "    </tr>\n",
       "    <tr>\n",
       "      <th>187857</th>\n",
       "      <td>Derby Line</td>\n",
       "      <td>VT</td>\n",
       "      <td>209</td>\n",
       "      <td>US-Canada Border</td>\n",
       "      <td>2007-01-01</td>\n",
       "      <td>Pedestrians</td>\n",
       "      <td>272</td>\n",
       "    </tr>\n",
       "    <tr>\n",
       "      <th>187858</th>\n",
       "      <td>Norton</td>\n",
       "      <td>VT</td>\n",
       "      <td>211</td>\n",
       "      <td>US-Canada Border</td>\n",
       "      <td>2007-01-01</td>\n",
       "      <td>Personal Vehicles</td>\n",
       "      <td>5017</td>\n",
       "    </tr>\n",
       "  </tbody>\n",
       "</table>\n",
       "<p>187859 rows × 7 columns</p>\n",
       "</div>"
      ],
      "text/plain": [
       "         Port Name State  Port Code            Border       Date  \\\n",
       "0            Alcan    AK       3104  US-Canada Border 2020-01-02   \n",
       "1            Alcan    AK       3104  US-Canada Border 2020-01-02   \n",
       "2            Alcan    AK       3104  US-Canada Border 2020-01-02   \n",
       "3            Alcan    AK       3104  US-Canada Border 2020-01-02   \n",
       "4            Alcan    AK       3104  US-Canada Border 2020-01-02   \n",
       "...            ...   ...        ...               ...        ...   \n",
       "187854    Presidio    TX       2403  US-Mexico Border 2007-01-01   \n",
       "187855   Van Buren    ME        108  US-Canada Border 2007-01-01   \n",
       "187856    Danville    WA       3012  US-Canada Border 2007-01-01   \n",
       "187857  Derby Line    VT        209  US-Canada Border 2007-01-01   \n",
       "187858      Norton    VT        211  US-Canada Border 2007-01-01   \n",
       "\n",
       "                            Measure  Value  \n",
       "0       Personal Vehicle Passengers   1414  \n",
       "1                 Personal Vehicles    763  \n",
       "2            Truck Containers Empty    412  \n",
       "3             Truck Containers Full    122  \n",
       "4                            Trucks    545  \n",
       "...                             ...    ...  \n",
       "187854                        Buses      0  \n",
       "187855        Rail Containers Empty    208  \n",
       "187856               Bus Passengers    113  \n",
       "187857                  Pedestrians    272  \n",
       "187858            Personal Vehicles   5017  \n",
       "\n",
       "[187859 rows x 7 columns]"
      ]
     },
     "execution_count": 24,
     "metadata": {},
     "output_type": "execute_result"
    }
   ],
   "source": [
    "#A: \n",
    "bc\n"
   ]
  },
  {
   "cell_type": "code",
   "execution_count": 4,
   "metadata": {},
   "outputs": [
    {
     "data": {
      "text/plain": [
       "Port Name            object\n",
       "State                object\n",
       "Port Code             int64\n",
       "Border               object\n",
       "Date         datetime64[ns]\n",
       "Measure              object\n",
       "Value                 int64\n",
       "dtype: object"
      ]
     },
     "execution_count": 4,
     "metadata": {},
     "output_type": "execute_result"
    }
   ],
   "source": [
    "bc.dtypes # datatypes of each column"
   ]
  },
  {
   "cell_type": "markdown",
   "metadata": {},
   "source": [
    "**Q2: Show the first 20 rows, last 10 rows and a sample of 15 rows**"
   ]
  },
  {
   "cell_type": "code",
   "execution_count": 6,
   "metadata": {},
   "outputs": [
    {
     "data": {
      "text/html": [
       "<div>\n",
       "<style scoped>\n",
       "    .dataframe tbody tr th:only-of-type {\n",
       "        vertical-align: middle;\n",
       "    }\n",
       "\n",
       "    .dataframe tbody tr th {\n",
       "        vertical-align: top;\n",
       "    }\n",
       "\n",
       "    .dataframe thead th {\n",
       "        text-align: right;\n",
       "    }\n",
       "</style>\n",
       "<table border=\"1\" class=\"dataframe\">\n",
       "  <thead>\n",
       "    <tr style=\"text-align: right;\">\n",
       "      <th></th>\n",
       "      <th>Port Name</th>\n",
       "      <th>State</th>\n",
       "      <th>Port Code</th>\n",
       "      <th>Border</th>\n",
       "      <th>Date</th>\n",
       "      <th>Measure</th>\n",
       "      <th>Value</th>\n",
       "    </tr>\n",
       "  </thead>\n",
       "  <tbody>\n",
       "    <tr>\n",
       "      <th>0</th>\n",
       "      <td>Alcan</td>\n",
       "      <td>AK</td>\n",
       "      <td>3104</td>\n",
       "      <td>US-Canada Border</td>\n",
       "      <td>2020-01-02</td>\n",
       "      <td>Personal Vehicle Passengers</td>\n",
       "      <td>1414</td>\n",
       "    </tr>\n",
       "    <tr>\n",
       "      <th>1</th>\n",
       "      <td>Alcan</td>\n",
       "      <td>AK</td>\n",
       "      <td>3104</td>\n",
       "      <td>US-Canada Border</td>\n",
       "      <td>2020-01-02</td>\n",
       "      <td>Personal Vehicles</td>\n",
       "      <td>763</td>\n",
       "    </tr>\n",
       "    <tr>\n",
       "      <th>2</th>\n",
       "      <td>Alcan</td>\n",
       "      <td>AK</td>\n",
       "      <td>3104</td>\n",
       "      <td>US-Canada Border</td>\n",
       "      <td>2020-01-02</td>\n",
       "      <td>Truck Containers Empty</td>\n",
       "      <td>412</td>\n",
       "    </tr>\n",
       "    <tr>\n",
       "      <th>3</th>\n",
       "      <td>Alcan</td>\n",
       "      <td>AK</td>\n",
       "      <td>3104</td>\n",
       "      <td>US-Canada Border</td>\n",
       "      <td>2020-01-02</td>\n",
       "      <td>Truck Containers Full</td>\n",
       "      <td>122</td>\n",
       "    </tr>\n",
       "    <tr>\n",
       "      <th>4</th>\n",
       "      <td>Alcan</td>\n",
       "      <td>AK</td>\n",
       "      <td>3104</td>\n",
       "      <td>US-Canada Border</td>\n",
       "      <td>2020-01-02</td>\n",
       "      <td>Trucks</td>\n",
       "      <td>545</td>\n",
       "    </tr>\n",
       "    <tr>\n",
       "      <th>5</th>\n",
       "      <td>Alexandria Bay</td>\n",
       "      <td>NY</td>\n",
       "      <td>708</td>\n",
       "      <td>US-Canada Border</td>\n",
       "      <td>2020-01-02</td>\n",
       "      <td>Bus Passengers</td>\n",
       "      <td>1174</td>\n",
       "    </tr>\n",
       "    <tr>\n",
       "      <th>6</th>\n",
       "      <td>Alexandria Bay</td>\n",
       "      <td>NY</td>\n",
       "      <td>708</td>\n",
       "      <td>US-Canada Border</td>\n",
       "      <td>2020-01-02</td>\n",
       "      <td>Buses</td>\n",
       "      <td>36</td>\n",
       "    </tr>\n",
       "    <tr>\n",
       "      <th>7</th>\n",
       "      <td>Alexandria Bay</td>\n",
       "      <td>NY</td>\n",
       "      <td>708</td>\n",
       "      <td>US-Canada Border</td>\n",
       "      <td>2020-01-02</td>\n",
       "      <td>Personal Vehicle Passengers</td>\n",
       "      <td>68630</td>\n",
       "    </tr>\n",
       "    <tr>\n",
       "      <th>8</th>\n",
       "      <td>Alexandria Bay</td>\n",
       "      <td>NY</td>\n",
       "      <td>708</td>\n",
       "      <td>US-Canada Border</td>\n",
       "      <td>2020-01-02</td>\n",
       "      <td>Personal Vehicles</td>\n",
       "      <td>31696</td>\n",
       "    </tr>\n",
       "    <tr>\n",
       "      <th>9</th>\n",
       "      <td>Alexandria Bay</td>\n",
       "      <td>NY</td>\n",
       "      <td>708</td>\n",
       "      <td>US-Canada Border</td>\n",
       "      <td>2020-01-02</td>\n",
       "      <td>Truck Containers Empty</td>\n",
       "      <td>1875</td>\n",
       "    </tr>\n",
       "    <tr>\n",
       "      <th>10</th>\n",
       "      <td>Alexandria Bay</td>\n",
       "      <td>NY</td>\n",
       "      <td>708</td>\n",
       "      <td>US-Canada Border</td>\n",
       "      <td>2020-01-02</td>\n",
       "      <td>Truck Containers Full</td>\n",
       "      <td>13160</td>\n",
       "    </tr>\n",
       "    <tr>\n",
       "      <th>11</th>\n",
       "      <td>Alexandria Bay</td>\n",
       "      <td>NY</td>\n",
       "      <td>708</td>\n",
       "      <td>US-Canada Border</td>\n",
       "      <td>2020-01-02</td>\n",
       "      <td>Trucks</td>\n",
       "      <td>14897</td>\n",
       "    </tr>\n",
       "    <tr>\n",
       "      <th>12</th>\n",
       "      <td>Algonac</td>\n",
       "      <td>MI</td>\n",
       "      <td>3814</td>\n",
       "      <td>US-Canada Border</td>\n",
       "      <td>2020-01-02</td>\n",
       "      <td>Personal Vehicle Passengers</td>\n",
       "      <td>5173</td>\n",
       "    </tr>\n",
       "    <tr>\n",
       "      <th>13</th>\n",
       "      <td>Algonac</td>\n",
       "      <td>MI</td>\n",
       "      <td>3814</td>\n",
       "      <td>US-Canada Border</td>\n",
       "      <td>2020-01-02</td>\n",
       "      <td>Personal Vehicles</td>\n",
       "      <td>2701</td>\n",
       "    </tr>\n",
       "    <tr>\n",
       "      <th>14</th>\n",
       "      <td>Ambrose</td>\n",
       "      <td>ND</td>\n",
       "      <td>3410</td>\n",
       "      <td>US-Canada Border</td>\n",
       "      <td>2020-01-02</td>\n",
       "      <td>Personal Vehicle Passengers</td>\n",
       "      <td>274</td>\n",
       "    </tr>\n",
       "    <tr>\n",
       "      <th>15</th>\n",
       "      <td>Ambrose</td>\n",
       "      <td>ND</td>\n",
       "      <td>3410</td>\n",
       "      <td>US-Canada Border</td>\n",
       "      <td>2020-01-02</td>\n",
       "      <td>Personal Vehicles</td>\n",
       "      <td>129</td>\n",
       "    </tr>\n",
       "    <tr>\n",
       "      <th>16</th>\n",
       "      <td>Ambrose</td>\n",
       "      <td>ND</td>\n",
       "      <td>3410</td>\n",
       "      <td>US-Canada Border</td>\n",
       "      <td>2020-01-02</td>\n",
       "      <td>Truck Containers Empty</td>\n",
       "      <td>2</td>\n",
       "    </tr>\n",
       "    <tr>\n",
       "      <th>17</th>\n",
       "      <td>Ambrose</td>\n",
       "      <td>ND</td>\n",
       "      <td>3410</td>\n",
       "      <td>US-Canada Border</td>\n",
       "      <td>2020-01-02</td>\n",
       "      <td>Trucks</td>\n",
       "      <td>2</td>\n",
       "    </tr>\n",
       "    <tr>\n",
       "      <th>18</th>\n",
       "      <td>Andrade</td>\n",
       "      <td>CA</td>\n",
       "      <td>2502</td>\n",
       "      <td>US-Mexico Border</td>\n",
       "      <td>2020-01-02</td>\n",
       "      <td>Pedestrians</td>\n",
       "      <td>115655</td>\n",
       "    </tr>\n",
       "    <tr>\n",
       "      <th>19</th>\n",
       "      <td>Andrade</td>\n",
       "      <td>CA</td>\n",
       "      <td>2502</td>\n",
       "      <td>US-Mexico Border</td>\n",
       "      <td>2020-01-02</td>\n",
       "      <td>Personal Vehicle Passengers</td>\n",
       "      <td>82972</td>\n",
       "    </tr>\n",
       "  </tbody>\n",
       "</table>\n",
       "</div>"
      ],
      "text/plain": [
       "         Port Name State  Port Code            Border       Date  \\\n",
       "0            Alcan    AK       3104  US-Canada Border 2020-01-02   \n",
       "1            Alcan    AK       3104  US-Canada Border 2020-01-02   \n",
       "2            Alcan    AK       3104  US-Canada Border 2020-01-02   \n",
       "3            Alcan    AK       3104  US-Canada Border 2020-01-02   \n",
       "4            Alcan    AK       3104  US-Canada Border 2020-01-02   \n",
       "5   Alexandria Bay    NY        708  US-Canada Border 2020-01-02   \n",
       "6   Alexandria Bay    NY        708  US-Canada Border 2020-01-02   \n",
       "7   Alexandria Bay    NY        708  US-Canada Border 2020-01-02   \n",
       "8   Alexandria Bay    NY        708  US-Canada Border 2020-01-02   \n",
       "9   Alexandria Bay    NY        708  US-Canada Border 2020-01-02   \n",
       "10  Alexandria Bay    NY        708  US-Canada Border 2020-01-02   \n",
       "11  Alexandria Bay    NY        708  US-Canada Border 2020-01-02   \n",
       "12         Algonac    MI       3814  US-Canada Border 2020-01-02   \n",
       "13         Algonac    MI       3814  US-Canada Border 2020-01-02   \n",
       "14         Ambrose    ND       3410  US-Canada Border 2020-01-02   \n",
       "15         Ambrose    ND       3410  US-Canada Border 2020-01-02   \n",
       "16         Ambrose    ND       3410  US-Canada Border 2020-01-02   \n",
       "17         Ambrose    ND       3410  US-Canada Border 2020-01-02   \n",
       "18         Andrade    CA       2502  US-Mexico Border 2020-01-02   \n",
       "19         Andrade    CA       2502  US-Mexico Border 2020-01-02   \n",
       "\n",
       "                        Measure   Value  \n",
       "0   Personal Vehicle Passengers    1414  \n",
       "1             Personal Vehicles     763  \n",
       "2        Truck Containers Empty     412  \n",
       "3         Truck Containers Full     122  \n",
       "4                        Trucks     545  \n",
       "5                Bus Passengers    1174  \n",
       "6                         Buses      36  \n",
       "7   Personal Vehicle Passengers   68630  \n",
       "8             Personal Vehicles   31696  \n",
       "9        Truck Containers Empty    1875  \n",
       "10        Truck Containers Full   13160  \n",
       "11                       Trucks   14897  \n",
       "12  Personal Vehicle Passengers    5173  \n",
       "13            Personal Vehicles    2701  \n",
       "14  Personal Vehicle Passengers     274  \n",
       "15            Personal Vehicles     129  \n",
       "16       Truck Containers Empty       2  \n",
       "17                       Trucks       2  \n",
       "18                  Pedestrians  115655  \n",
       "19  Personal Vehicle Passengers   82972  "
      ]
     },
     "execution_count": 6,
     "metadata": {},
     "output_type": "execute_result"
    }
   ],
   "source": [
    "#A: \n",
    "\n",
    "bc.head(20) #Shows the first 20 rows"
   ]
  },
  {
   "cell_type": "code",
   "execution_count": 8,
   "metadata": {},
   "outputs": [
    {
     "data": {
      "text/html": [
       "<div>\n",
       "<style scoped>\n",
       "    .dataframe tbody tr th:only-of-type {\n",
       "        vertical-align: middle;\n",
       "    }\n",
       "\n",
       "    .dataframe tbody tr th {\n",
       "        vertical-align: top;\n",
       "    }\n",
       "\n",
       "    .dataframe thead th {\n",
       "        text-align: right;\n",
       "    }\n",
       "</style>\n",
       "<table border=\"1\" class=\"dataframe\">\n",
       "  <thead>\n",
       "    <tr style=\"text-align: right;\">\n",
       "      <th></th>\n",
       "      <th>Port Name</th>\n",
       "      <th>State</th>\n",
       "      <th>Port Code</th>\n",
       "      <th>Border</th>\n",
       "      <th>Date</th>\n",
       "      <th>Measure</th>\n",
       "      <th>Value</th>\n",
       "    </tr>\n",
       "  </thead>\n",
       "  <tbody>\n",
       "    <tr>\n",
       "      <th>187849</th>\n",
       "      <td>Roosville</td>\n",
       "      <td>MT</td>\n",
       "      <td>3318</td>\n",
       "      <td>US-Canada Border</td>\n",
       "      <td>2007-01-01</td>\n",
       "      <td>Trucks</td>\n",
       "      <td>1518</td>\n",
       "    </tr>\n",
       "    <tr>\n",
       "      <th>187850</th>\n",
       "      <td>Sumas</td>\n",
       "      <td>WA</td>\n",
       "      <td>3009</td>\n",
       "      <td>US-Canada Border</td>\n",
       "      <td>2007-01-01</td>\n",
       "      <td>Truck Containers Empty</td>\n",
       "      <td>1102</td>\n",
       "    </tr>\n",
       "    <tr>\n",
       "      <th>187851</th>\n",
       "      <td>Naco</td>\n",
       "      <td>AZ</td>\n",
       "      <td>2603</td>\n",
       "      <td>US-Mexico Border</td>\n",
       "      <td>2007-01-01</td>\n",
       "      <td>Personal Vehicle Passengers</td>\n",
       "      <td>73337</td>\n",
       "    </tr>\n",
       "    <tr>\n",
       "      <th>187852</th>\n",
       "      <td>International Falls-Ranier</td>\n",
       "      <td>MN</td>\n",
       "      <td>3604</td>\n",
       "      <td>US-Canada Border</td>\n",
       "      <td>2007-01-01</td>\n",
       "      <td>Bus Passengers</td>\n",
       "      <td>362</td>\n",
       "    </tr>\n",
       "    <tr>\n",
       "      <th>187853</th>\n",
       "      <td>Sherwood</td>\n",
       "      <td>ND</td>\n",
       "      <td>3414</td>\n",
       "      <td>US-Canada Border</td>\n",
       "      <td>2007-01-01</td>\n",
       "      <td>Train Passengers</td>\n",
       "      <td>0</td>\n",
       "    </tr>\n",
       "    <tr>\n",
       "      <th>187854</th>\n",
       "      <td>Presidio</td>\n",
       "      <td>TX</td>\n",
       "      <td>2403</td>\n",
       "      <td>US-Mexico Border</td>\n",
       "      <td>2007-01-01</td>\n",
       "      <td>Buses</td>\n",
       "      <td>0</td>\n",
       "    </tr>\n",
       "    <tr>\n",
       "      <th>187855</th>\n",
       "      <td>Van Buren</td>\n",
       "      <td>ME</td>\n",
       "      <td>108</td>\n",
       "      <td>US-Canada Border</td>\n",
       "      <td>2007-01-01</td>\n",
       "      <td>Rail Containers Empty</td>\n",
       "      <td>208</td>\n",
       "    </tr>\n",
       "    <tr>\n",
       "      <th>187856</th>\n",
       "      <td>Danville</td>\n",
       "      <td>WA</td>\n",
       "      <td>3012</td>\n",
       "      <td>US-Canada Border</td>\n",
       "      <td>2007-01-01</td>\n",
       "      <td>Bus Passengers</td>\n",
       "      <td>113</td>\n",
       "    </tr>\n",
       "    <tr>\n",
       "      <th>187857</th>\n",
       "      <td>Derby Line</td>\n",
       "      <td>VT</td>\n",
       "      <td>209</td>\n",
       "      <td>US-Canada Border</td>\n",
       "      <td>2007-01-01</td>\n",
       "      <td>Pedestrians</td>\n",
       "      <td>272</td>\n",
       "    </tr>\n",
       "    <tr>\n",
       "      <th>187858</th>\n",
       "      <td>Norton</td>\n",
       "      <td>VT</td>\n",
       "      <td>211</td>\n",
       "      <td>US-Canada Border</td>\n",
       "      <td>2007-01-01</td>\n",
       "      <td>Personal Vehicles</td>\n",
       "      <td>5017</td>\n",
       "    </tr>\n",
       "  </tbody>\n",
       "</table>\n",
       "</div>"
      ],
      "text/plain": [
       "                         Port Name State  Port Code            Border  \\\n",
       "187849                   Roosville    MT       3318  US-Canada Border   \n",
       "187850                       Sumas    WA       3009  US-Canada Border   \n",
       "187851                        Naco    AZ       2603  US-Mexico Border   \n",
       "187852  International Falls-Ranier    MN       3604  US-Canada Border   \n",
       "187853                    Sherwood    ND       3414  US-Canada Border   \n",
       "187854                    Presidio    TX       2403  US-Mexico Border   \n",
       "187855                   Van Buren    ME        108  US-Canada Border   \n",
       "187856                    Danville    WA       3012  US-Canada Border   \n",
       "187857                  Derby Line    VT        209  US-Canada Border   \n",
       "187858                      Norton    VT        211  US-Canada Border   \n",
       "\n",
       "             Date                      Measure  Value  \n",
       "187849 2007-01-01                       Trucks   1518  \n",
       "187850 2007-01-01       Truck Containers Empty   1102  \n",
       "187851 2007-01-01  Personal Vehicle Passengers  73337  \n",
       "187852 2007-01-01               Bus Passengers    362  \n",
       "187853 2007-01-01             Train Passengers      0  \n",
       "187854 2007-01-01                        Buses      0  \n",
       "187855 2007-01-01        Rail Containers Empty    208  \n",
       "187856 2007-01-01               Bus Passengers    113  \n",
       "187857 2007-01-01                  Pedestrians    272  \n",
       "187858 2007-01-01            Personal Vehicles   5017  "
      ]
     },
     "execution_count": 8,
     "metadata": {},
     "output_type": "execute_result"
    }
   ],
   "source": [
    "bc.tail(10) #Shows last 10 rows"
   ]
  },
  {
   "cell_type": "code",
   "execution_count": 9,
   "metadata": {},
   "outputs": [
    {
     "data": {
      "text/html": [
       "<div>\n",
       "<style scoped>\n",
       "    .dataframe tbody tr th:only-of-type {\n",
       "        vertical-align: middle;\n",
       "    }\n",
       "\n",
       "    .dataframe tbody tr th {\n",
       "        vertical-align: top;\n",
       "    }\n",
       "\n",
       "    .dataframe thead th {\n",
       "        text-align: right;\n",
       "    }\n",
       "</style>\n",
       "<table border=\"1\" class=\"dataframe\">\n",
       "  <thead>\n",
       "    <tr style=\"text-align: right;\">\n",
       "      <th></th>\n",
       "      <th>Port Name</th>\n",
       "      <th>State</th>\n",
       "      <th>Port Code</th>\n",
       "      <th>Border</th>\n",
       "      <th>Date</th>\n",
       "      <th>Measure</th>\n",
       "      <th>Value</th>\n",
       "    </tr>\n",
       "  </thead>\n",
       "  <tbody>\n",
       "    <tr>\n",
       "      <th>64802</th>\n",
       "      <td>Norton</td>\n",
       "      <td>VT</td>\n",
       "      <td>211</td>\n",
       "      <td>US-Canada Border</td>\n",
       "      <td>2014-01-09</td>\n",
       "      <td>Pedestrians</td>\n",
       "      <td>0</td>\n",
       "    </tr>\n",
       "    <tr>\n",
       "      <th>183071</th>\n",
       "      <td>Sumas</td>\n",
       "      <td>WA</td>\n",
       "      <td>3009</td>\n",
       "      <td>US-Canada Border</td>\n",
       "      <td>2007-01-04</td>\n",
       "      <td>Personal Vehicle Passengers</td>\n",
       "      <td>96030</td>\n",
       "    </tr>\n",
       "    <tr>\n",
       "      <th>81897</th>\n",
       "      <td>Portal</td>\n",
       "      <td>ND</td>\n",
       "      <td>3403</td>\n",
       "      <td>US-Canada Border</td>\n",
       "      <td>2013-01-08</td>\n",
       "      <td>Truck Containers Full</td>\n",
       "      <td>5161</td>\n",
       "    </tr>\n",
       "    <tr>\n",
       "      <th>148859</th>\n",
       "      <td>Lancaster</td>\n",
       "      <td>MN</td>\n",
       "      <td>3430</td>\n",
       "      <td>US-Canada Border</td>\n",
       "      <td>2009-01-06</td>\n",
       "      <td>Trucks</td>\n",
       "      <td>464</td>\n",
       "    </tr>\n",
       "    <tr>\n",
       "      <th>93924</th>\n",
       "      <td>Brownsville</td>\n",
       "      <td>TX</td>\n",
       "      <td>2301</td>\n",
       "      <td>US-Mexico Border</td>\n",
       "      <td>2012-01-11</td>\n",
       "      <td>Truck Containers Empty</td>\n",
       "      <td>7833</td>\n",
       "    </tr>\n",
       "    <tr>\n",
       "      <th>101293</th>\n",
       "      <td>Highgate Springs-Alburg</td>\n",
       "      <td>VT</td>\n",
       "      <td>212</td>\n",
       "      <td>US-Canada Border</td>\n",
       "      <td>2012-01-05</td>\n",
       "      <td>Train Passengers</td>\n",
       "      <td>56</td>\n",
       "    </tr>\n",
       "    <tr>\n",
       "      <th>179793</th>\n",
       "      <td>Vanceboro</td>\n",
       "      <td>ME</td>\n",
       "      <td>105</td>\n",
       "      <td>US-Canada Border</td>\n",
       "      <td>2007-01-07</td>\n",
       "      <td>Rail Containers Empty</td>\n",
       "      <td>383</td>\n",
       "    </tr>\n",
       "    <tr>\n",
       "      <th>162544</th>\n",
       "      <td>Port Angeles</td>\n",
       "      <td>WA</td>\n",
       "      <td>3007</td>\n",
       "      <td>US-Canada Border</td>\n",
       "      <td>2008-01-07</td>\n",
       "      <td>Truck Containers Full</td>\n",
       "      <td>0</td>\n",
       "    </tr>\n",
       "    <tr>\n",
       "      <th>7141</th>\n",
       "      <td>Detroit</td>\n",
       "      <td>MI</td>\n",
       "      <td>3801</td>\n",
       "      <td>US-Canada Border</td>\n",
       "      <td>2019-01-06</td>\n",
       "      <td>Personal Vehicles</td>\n",
       "      <td>351889</td>\n",
       "    </tr>\n",
       "    <tr>\n",
       "      <th>131076</th>\n",
       "      <td>International Falls-Ranier</td>\n",
       "      <td>MN</td>\n",
       "      <td>3604</td>\n",
       "      <td>US-Canada Border</td>\n",
       "      <td>2010-01-07</td>\n",
       "      <td>Train Passengers</td>\n",
       "      <td>594</td>\n",
       "    </tr>\n",
       "    <tr>\n",
       "      <th>47825</th>\n",
       "      <td>Bridgewater</td>\n",
       "      <td>ME</td>\n",
       "      <td>127</td>\n",
       "      <td>US-Canada Border</td>\n",
       "      <td>2015-01-10</td>\n",
       "      <td>Truck Containers Full</td>\n",
       "      <td>503</td>\n",
       "    </tr>\n",
       "    <tr>\n",
       "      <th>98176</th>\n",
       "      <td>Sasabe</td>\n",
       "      <td>AZ</td>\n",
       "      <td>2606</td>\n",
       "      <td>US-Mexico Border</td>\n",
       "      <td>2012-01-08</td>\n",
       "      <td>Rail Containers Empty</td>\n",
       "      <td>0</td>\n",
       "    </tr>\n",
       "    <tr>\n",
       "      <th>7714</th>\n",
       "      <td>Champlain-Rouses Point</td>\n",
       "      <td>NY</td>\n",
       "      <td>712</td>\n",
       "      <td>US-Canada Border</td>\n",
       "      <td>2019-01-05</td>\n",
       "      <td>Truck Containers Empty</td>\n",
       "      <td>3094</td>\n",
       "    </tr>\n",
       "    <tr>\n",
       "      <th>81785</th>\n",
       "      <td>Whitetail</td>\n",
       "      <td>MT</td>\n",
       "      <td>3312</td>\n",
       "      <td>US-Canada Border</td>\n",
       "      <td>2013-01-08</td>\n",
       "      <td>Rail Containers Full</td>\n",
       "      <td>0</td>\n",
       "    </tr>\n",
       "    <tr>\n",
       "      <th>185774</th>\n",
       "      <td>Neche</td>\n",
       "      <td>ND</td>\n",
       "      <td>3404</td>\n",
       "      <td>US-Canada Border</td>\n",
       "      <td>2007-01-02</td>\n",
       "      <td>Rail Containers Empty</td>\n",
       "      <td>0</td>\n",
       "    </tr>\n",
       "  </tbody>\n",
       "</table>\n",
       "</div>"
      ],
      "text/plain": [
       "                         Port Name State  Port Code            Border  \\\n",
       "64802                       Norton    VT        211  US-Canada Border   \n",
       "183071                       Sumas    WA       3009  US-Canada Border   \n",
       "81897                       Portal    ND       3403  US-Canada Border   \n",
       "148859                   Lancaster    MN       3430  US-Canada Border   \n",
       "93924                  Brownsville    TX       2301  US-Mexico Border   \n",
       "101293     Highgate Springs-Alburg    VT        212  US-Canada Border   \n",
       "179793                   Vanceboro    ME        105  US-Canada Border   \n",
       "162544                Port Angeles    WA       3007  US-Canada Border   \n",
       "7141                       Detroit    MI       3801  US-Canada Border   \n",
       "131076  International Falls-Ranier    MN       3604  US-Canada Border   \n",
       "47825                  Bridgewater    ME        127  US-Canada Border   \n",
       "98176                       Sasabe    AZ       2606  US-Mexico Border   \n",
       "7714        Champlain-Rouses Point    NY        712  US-Canada Border   \n",
       "81785                    Whitetail    MT       3312  US-Canada Border   \n",
       "185774                       Neche    ND       3404  US-Canada Border   \n",
       "\n",
       "             Date                      Measure   Value  \n",
       "64802  2014-01-09                  Pedestrians       0  \n",
       "183071 2007-01-04  Personal Vehicle Passengers   96030  \n",
       "81897  2013-01-08        Truck Containers Full    5161  \n",
       "148859 2009-01-06                       Trucks     464  \n",
       "93924  2012-01-11       Truck Containers Empty    7833  \n",
       "101293 2012-01-05             Train Passengers      56  \n",
       "179793 2007-01-07        Rail Containers Empty     383  \n",
       "162544 2008-01-07        Truck Containers Full       0  \n",
       "7141   2019-01-06            Personal Vehicles  351889  \n",
       "131076 2010-01-07             Train Passengers     594  \n",
       "47825  2015-01-10        Truck Containers Full     503  \n",
       "98176  2012-01-08        Rail Containers Empty       0  \n",
       "7714   2019-01-05       Truck Containers Empty    3094  \n",
       "81785  2013-01-08         Rail Containers Full       0  \n",
       "185774 2007-01-02        Rail Containers Empty       0  "
      ]
     },
     "execution_count": 9,
     "metadata": {},
     "output_type": "execute_result"
    }
   ],
   "source": [
    "bc.sample(15)  #Sample of 15 rows"
   ]
  },
  {
   "cell_type": "markdown",
   "metadata": {},
   "source": [
    "**Q3: Find the no. of rows and columns**"
   ]
  },
  {
   "cell_type": "code",
   "execution_count": 10,
   "metadata": {},
   "outputs": [
    {
     "data": {
      "text/plain": [
       "(187859, 7)"
      ]
     },
     "execution_count": 10,
     "metadata": {},
     "output_type": "execute_result"
    }
   ],
   "source": [
    "#A: \n",
    "bc.shape  #Number of rows and columns (dimensionality) \n"
   ]
  },
  {
   "cell_type": "markdown",
   "metadata": {},
   "source": [
    "**Q4: Find column names**"
   ]
  },
  {
   "cell_type": "code",
   "execution_count": 11,
   "metadata": {},
   "outputs": [
    {
     "data": {
      "text/plain": [
       "Index(['Port Name', 'State', 'Port Code', 'Border', 'Date', 'Measure',\n",
       "       'Value'],\n",
       "      dtype='object')"
      ]
     },
     "execution_count": 11,
     "metadata": {},
     "output_type": "execute_result"
    }
   ],
   "source": [
    "#A: \n",
    "\n",
    "bc.columns"
   ]
  },
  {
   "cell_type": "markdown",
   "metadata": {},
   "source": [
    "**Q5- Find the no. of nulls in the data**"
   ]
  },
  {
   "cell_type": "code",
   "execution_count": 12,
   "metadata": {
    "scrolled": true
   },
   "outputs": [
    {
     "name": "stdout",
     "output_type": "stream",
     "text": [
      "<class 'pandas.core.frame.DataFrame'>\n",
      "RangeIndex: 187859 entries, 0 to 187858\n",
      "Data columns (total 7 columns):\n",
      " #   Column     Non-Null Count   Dtype         \n",
      "---  ------     --------------   -----         \n",
      " 0   Port Name  187859 non-null  object        \n",
      " 1   State      187859 non-null  object        \n",
      " 2   Port Code  187859 non-null  int64         \n",
      " 3   Border     187859 non-null  object        \n",
      " 4   Date       187859 non-null  datetime64[ns]\n",
      " 5   Measure    187859 non-null  object        \n",
      " 6   Value      187859 non-null  int64         \n",
      "dtypes: datetime64[ns](1), int64(2), object(4)\n",
      "memory usage: 10.0+ MB\n"
     ]
    }
   ],
   "source": [
    "#A: \n",
    "\n",
    "bc.info()"
   ]
  },
  {
   "cell_type": "markdown",
   "metadata": {},
   "source": [
    "**Q6- Find the number of crossings via Canada and Mexico borders**"
   ]
  },
  {
   "cell_type": "code",
   "execution_count": 4,
   "metadata": {},
   "outputs": [
    {
     "data": {
      "text/plain": [
       "US-Canada Border    144786\n",
       "US-Mexico Border     43073\n",
       "Name: Border, dtype: int64"
      ]
     },
     "execution_count": 4,
     "metadata": {},
     "output_type": "execute_result"
    }
   ],
   "source": [
    "#A: \n",
    "\n",
    "cross=bc[\"Border\"].value_counts()\n",
    "cross"
   ]
  },
  {
   "cell_type": "markdown",
   "metadata": {},
   "source": [
    "**Q7- Create a pie chart to show the above data**"
   ]
  },
  {
   "cell_type": "code",
   "execution_count": 10,
   "metadata": {},
   "outputs": [
    {
     "data": {
      "text/plain": [
       "Text(0.5, 1.0, 'Crossings via Canada and Mexico borders')"
      ]
     },
     "execution_count": 10,
     "metadata": {},
     "output_type": "execute_result"
    },
    {
     "data": {
      "image/png": "[encoded data removed]",
      "text/plain": [
       "<Figure size 1224x360 with 1 Axes>"
      ]
     },
     "metadata": {},
     "output_type": "display_data"
    }
   ],
   "source": [
    "#A: \n",
    "plt.figure(figsize=(17,5))\n",
    "plt.pie(cross, labels=cross.index)\n",
    "plt.title(\"Crossings via Canada and Mexico borders\")\n"
   ]
  },
  {
   "cell_type": "markdown",
   "metadata": {},
   "source": [
    "**Q8- Find number of crossing by State**"
   ]
  },
  {
   "cell_type": "code",
   "execution_count": 33,
   "metadata": {
    "scrolled": true
   },
   "outputs": [
    {
     "data": {
      "text/plain": [
       "State\n",
       "AK     6603\n",
       "AZ    10243\n",
       "CA    10049\n",
       "ID     3594\n",
       "ME    20616\n",
       "MI     5620\n",
       "MN    12029\n",
       "MT    20642\n",
       "ND    29778\n",
       "NM     3447\n",
       "NY    11819\n",
       "OH       10\n",
       "TX    19334\n",
       "VT     8807\n",
       "WA    25268\n",
       "Name: Port Name, dtype: int64"
      ]
     },
     "execution_count": 33,
     "metadata": {},
     "output_type": "execute_result"
    }
   ],
   "source": [
    "#A: \n",
    "\n",
    "bc.groupby([\"State\"])[\"Port Name\"].count()"
   ]
  },
  {
   "cell_type": "markdown",
   "metadata": {},
   "source": [
    "**Q9- Find top 15 ports of entry into the US**"
   ]
  },
  {
   "cell_type": "code",
   "execution_count": 40,
   "metadata": {
    "scrolled": true
   },
   "outputs": [
    {
     "data": {
      "text/plain": [
       "Eastport                      3593\n",
       "Champlain-Rouses Point        1896\n",
       "Sweetgrass                    1896\n",
       "Calexico East                 1896\n",
       "Calais                        1896\n",
       "Buffalo-Niagara Falls         1896\n",
       "Portal                        1896\n",
       "Nogales                       1896\n",
       "Sumas                         1896\n",
       "International Falls-Ranier    1895\n",
       "El Paso                       1894\n",
       "Jackman                       1892\n",
       "Detroit                       1874\n",
       "Port Huron                    1860\n",
       "Otay Mesa                     1857\n",
       "Name: Port Name, dtype: int64"
      ]
     },
     "execution_count": 40,
     "metadata": {},
     "output_type": "execute_result"
    }
   ],
   "source": [
    "#A: \n",
    "bc[\"Port Name\"].value_counts(ascending=False).head(15)\n"
   ]
  },
  {
   "cell_type": "markdown",
   "metadata": {},
   "source": [
    "**Q10- Find top 10 ports for entry into the US via Canada**"
   ]
  },
  {
   "cell_type": "code",
   "execution_count": 25,
   "metadata": {},
   "outputs": [
    {
     "data": {
      "text/plain": [
       "Eastport                      3593\n",
       "Buffalo-Niagara Falls         1896\n",
       "Sumas                         1896\n",
       "Sweetgrass                    1896\n",
       "Portal                        1896\n",
       "Champlain-Rouses Point        1896\n",
       "Calais                        1896\n",
       "International Falls-Ranier    1895\n",
       "Jackman                       1892\n",
       "Detroit                       1874\n",
       "Name: Port Name, dtype: int64"
      ]
     },
     "execution_count": 25,
     "metadata": {},
     "output_type": "execute_result"
    }
   ],
   "source": [
    "#A: \n",
    "canada_border=bc[bc[\"Border\"] ==(\"US-Canada Border\")][\"Port Name\"].value_counts().head(10)\n",
    "canada_border"
   ]
  },
  {
   "cell_type": "markdown",
   "metadata": {},
   "source": [
    "**Q11- Create a bar chart showcasing top 15 ports to enter US via Mexico**"
   ]
  },
  {
   "cell_type": "code",
   "execution_count": 26,
   "metadata": {},
   "outputs": [
    {
     "data": {
      "text/plain": [
       "Calexico East    1896\n",
       "Nogales          1896\n",
       "El Paso          1894\n",
       "Otay Mesa        1857\n",
       "Laredo           1853\n",
       "Brownsville      1853\n",
       "Eagle Pass       1853\n",
       "Roma             1726\n",
       "Santa Teresa     1726\n",
       "Hidalgo          1724\n",
       "Presidio         1724\n",
       "San Luis         1724\n",
       "Douglas          1724\n",
       "Columbus         1721\n",
       "Lukeville        1697\n",
       "Name: Port Name, dtype: int64"
      ]
     },
     "execution_count": 26,
     "metadata": {},
     "output_type": "execute_result"
    }
   ],
   "source": [
    "#A: \n",
    "mexico_border=bc[bc[\"Border\"] ==(\"US-Mexico Border\")][\"Port Name\"].value_counts().head(15)\n",
    "mexico_border\n"
   ]
  },
  {
   "cell_type": "code",
   "execution_count": 31,
   "metadata": {},
   "outputs": [
    {
     "data": {
      "text/plain": [
       "<AxesSubplot:title={'center':'Rodent Stamina'}>"
      ]
     },
     "execution_count": 31,
     "metadata": {},
     "output_type": "execute_result"
    },
    {
     "data": {
      "image/png": "[encoded data removed]",
      "text/plain": [
       "<Figure size 432x288 with 1 Axes>"
      ]
     },
     "metadata": {
      "needs_background": "light"
     },
     "output_type": "display_data"
    }
   ],
   "source": [
    "mexico_border.plot.bar( title=\"Top 15 ports\", color= \"m\")"
   ]
  },
  {
   "cell_type": "markdown",
   "metadata": {},
   "source": [
    "**Q12- Find the frequency for ecah of the modes of entry (i.e. personal vehicle, bus etc)**"
   ]
  },
  {
   "cell_type": "code",
   "execution_count": 41,
   "metadata": {
    "scrolled": true
   },
   "outputs": [
    {
     "data": {
      "text/plain": [
       "Measure\n",
       "Bus Passengers                 15509\n",
       "Buses                          15514\n",
       "Pedestrians                    15398\n",
       "Personal Vehicle Passengers    17417\n",
       "Personal Vehicles              17454\n",
       "Rail Containers Empty          14044\n",
       "Rail Containers Full           14005\n",
       "Train Passengers               13953\n",
       "Trains                         14065\n",
       "Truck Containers Empty         16830\n",
       "Truck Containers Full          16727\n",
       "Trucks                         16943\n",
       "Name: Port Name, dtype: int64"
      ]
     },
     "execution_count": 41,
     "metadata": {},
     "output_type": "execute_result"
    }
   ],
   "source": [
    "#A: \n",
    "\n",
    "bc.groupby([\"Measure\"])[\"Port Name\"].count()"
   ]
  },
  {
   "cell_type": "markdown",
   "metadata": {},
   "source": [
    "**Q13- Find mean, std deviation, median, min and max for Value**\n"
   ]
  },
  {
   "cell_type": "code",
   "execution_count": 13,
   "metadata": {},
   "outputs": [
    {
     "data": {
      "text/html": [
       "<div>\n",
       "<style scoped>\n",
       "    .dataframe tbody tr th:only-of-type {\n",
       "        vertical-align: middle;\n",
       "    }\n",
       "\n",
       "    .dataframe tbody tr th {\n",
       "        vertical-align: top;\n",
       "    }\n",
       "\n",
       "    .dataframe thead th {\n",
       "        text-align: right;\n",
       "    }\n",
       "</style>\n",
       "<table border=\"1\" class=\"dataframe\">\n",
       "  <thead>\n",
       "    <tr style=\"text-align: right;\">\n",
       "      <th></th>\n",
       "      <th>Value</th>\n",
       "    </tr>\n",
       "  </thead>\n",
       "  <tbody>\n",
       "    <tr>\n",
       "      <th>count</th>\n",
       "      <td>1.878590e+05</td>\n",
       "    </tr>\n",
       "    <tr>\n",
       "      <th>mean</th>\n",
       "      <td>2.570261e+04</td>\n",
       "    </tr>\n",
       "    <tr>\n",
       "      <th>std</th>\n",
       "      <td>1.245167e+05</td>\n",
       "    </tr>\n",
       "    <tr>\n",
       "      <th>min</th>\n",
       "      <td>0.000000e+00</td>\n",
       "    </tr>\n",
       "    <tr>\n",
       "      <th>25%</th>\n",
       "      <td>0.000000e+00</td>\n",
       "    </tr>\n",
       "    <tr>\n",
       "      <th>50%</th>\n",
       "      <td>1.290000e+02</td>\n",
       "    </tr>\n",
       "    <tr>\n",
       "      <th>75%</th>\n",
       "      <td>2.964000e+03</td>\n",
       "    </tr>\n",
       "    <tr>\n",
       "      <th>max</th>\n",
       "      <td>2.739652e+06</td>\n",
       "    </tr>\n",
       "  </tbody>\n",
       "</table>\n",
       "</div>"
      ],
      "text/plain": [
       "              Value\n",
       "count  1.878590e+05\n",
       "mean   2.570261e+04\n",
       "std    1.245167e+05\n",
       "min    0.000000e+00\n",
       "25%    0.000000e+00\n",
       "50%    1.290000e+02\n",
       "75%    2.964000e+03\n",
       "max    2.739652e+06"
      ]
     },
     "execution_count": 13,
     "metadata": {},
     "output_type": "execute_result"
    }
   ],
   "source": [
    "#A: \n",
    "bc[[\"Value\"]].describe()\n"
   ]
  },
  {
   "cell_type": "markdown",
   "metadata": {},
   "source": [
    "**Q14- Create a boxplot for the Value- What insights can you gather via this boxplot**"
   ]
  },
  {
   "cell_type": "code",
   "execution_count": 49,
   "metadata": {},
   "outputs": [
    {
     "data": {
      "text/plain": [
       "Text(0.5, 1.0, 'Boxplot for Value')"
      ]
     },
     "execution_count": 49,
     "metadata": {},
     "output_type": "execute_result"
    },
    {
     "data": {
      "image/png": "[encoded data removed]",
      "text/plain": [
       "<Figure size 432x288 with 1 Axes>"
      ]
     },
     "metadata": {
      "needs_background": "light"
     },
     "output_type": "display_data"
    }
   ],
   "source": [
    "#A: \n",
    "plt.boxplot(bc[\"Value\"])\n",
    "plt.title(\"Boxplot for Value\")\n",
    "# I understand that the values are different, it has outliers so a boxplot is not a good way to show the numbers."
   ]
  },
  {
   "cell_type": "markdown",
   "metadata": {},
   "source": [
    "**Q15- Find average value bought into the US via each of the different modes**"
   ]
  },
  {
   "cell_type": "code",
   "execution_count": 42,
   "metadata": {
    "scrolled": false
   },
   "outputs": [
    {
     "data": {
      "text/plain": [
       "Measure\n",
       "Bus Passengers                   4201.735895\n",
       "Buses                             262.646255\n",
       "Pedestrians                     37276.480972\n",
       "Personal Vehicle Passengers    144799.234484\n",
       "Personal Vehicles               76065.949582\n",
       "Rail Containers Empty            1065.336514\n",
       "Rail Containers Full             1796.995359\n",
       "Train Passengers                  260.151939\n",
       "Trains                             34.542410\n",
       "Truck Containers Empty           2329.437255\n",
       "Truck Containers Full            6354.191427\n",
       "Trucks                           8610.380452\n",
       "Name: Value, dtype: float64"
      ]
     },
     "execution_count": 42,
     "metadata": {},
     "output_type": "execute_result"
    }
   ],
   "source": [
    "#A: \n",
    "\n",
    "bc.groupby([\"Measure\"])[\"Value\"].mean()"
   ]
  },
  {
   "cell_type": "markdown",
   "metadata": {},
   "source": [
    "**Q16- Convert Date to Datetime datatype**"
   ]
  },
  {
   "cell_type": "code",
   "execution_count": 46,
   "metadata": {},
   "outputs": [
    {
     "data": {
      "text/plain": [
       "Port Name            object\n",
       "State                object\n",
       "Port Code             int64\n",
       "Border               object\n",
       "Date         datetime64[ns]\n",
       "Measure              object\n",
       "Value                 int64\n",
       "dtype: object"
      ]
     },
     "execution_count": 46,
     "metadata": {},
     "output_type": "execute_result"
    }
   ],
   "source": [
    "#A: \n",
    "bc[\"Date\"] = pd.to_datetime(bc[\"Date\"])\n",
    "bc.dtypes"
   ]
  },
  {
   "cell_type": "markdown",
   "metadata": {},
   "source": [
    "**Q17- Can you find the frequency for each date**"
   ]
  },
  {
   "cell_type": "code",
   "execution_count": 48,
   "metadata": {},
   "outputs": [
    {
     "data": {
      "text/plain": [
       "Date\n",
       "2007-01-01    1332\n",
       "2007-01-02    1332\n",
       "2007-01-03    1332\n",
       "2007-01-04    1332\n",
       "2007-01-05    1344\n",
       "              ... \n",
       "2019-01-10     800\n",
       "2019-01-11     786\n",
       "2019-01-12     773\n",
       "2020-01-01     771\n",
       "2020-01-02     778\n",
       "Name: Port Name, Length: 158, dtype: int64"
      ]
     },
     "execution_count": 48,
     "metadata": {},
     "output_type": "execute_result"
    }
   ],
   "source": [
    "#A: \n",
    "\n",
    "bc.groupby([\"Date\"])[\"Port Name\"].count()"
   ]
  },
  {
   "cell_type": "markdown",
   "metadata": {},
   "source": [
    "**Q18- Find top 5 years in the dataframe**"
   ]
  },
  {
   "cell_type": "code",
   "execution_count": 53,
   "metadata": {},
   "outputs": [],
   "source": [
    "#A: \n",
    "bc[\"Year\"]=bc[\"Date\"].dt.year\n"
   ]
  },
  {
   "cell_type": "code",
   "execution_count": 55,
   "metadata": {},
   "outputs": [
    {
     "data": {
      "text/plain": [
       "2010    16200\n",
       "2009    16056\n",
       "2008    16056\n",
       "2007    16056\n",
       "2015    15984\n",
       "Name: Year, dtype: int64"
      ]
     },
     "execution_count": 55,
     "metadata": {},
     "output_type": "execute_result"
    }
   ],
   "source": [
    "\n",
    "bc[\"Year\"].value_counts(ascending=False).head(5)"
   ]
  },
  {
   "cell_type": "markdown",
   "metadata": {},
   "source": [
    "---\n",
    "\n",
    "### Q19: Craft two problem statements about this data that interests you, and then answer it!. You will be graded on quality of questions and answers \n"
   ]
  },
  {
   "cell_type": "code",
   "execution_count": null,
   "metadata": {},
   "outputs": [],
   "source": []
  }
 ],
 "metadata": {
  "kernelspec": {
   "display_name": "Python 3 (ipykernel)",
   "language": "python",
   "name": "python3"
  },
  "language_info": {
   "codemirror_mode": {
    "name": "ipython",
    "version": 3
   },
   "file_extension": ".py",
   "mimetype": "text/x-python",
   "name": "python",
   "nbconvert_exporter": "python",
   "pygments_lexer": "ipython3",
   "version": "3.9.7"
  }
 },
 "nbformat": 4,
 "nbformat_minor": 4
}
