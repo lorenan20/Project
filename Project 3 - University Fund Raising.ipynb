{
 "cells": [
  {
   "cell_type": "markdown",
   "id": "c260c586",
   "metadata": {},
   "source": [
    "## Project 3 - University Fund Raising"
   ]
  },
  {
   "cell_type": "code",
   "execution_count": 1,
   "id": "e4d045a0",
   "metadata": {},
   "outputs": [],
   "source": [
    "#import libraries\n",
    "import pandas as pd\n",
    "import numpy as np\n",
    "import matplotlib.pyplot as plt\n",
    "import seaborn as sns\n",
    "%matplotlib inline"
   ]
  },
  {
   "cell_type": "code",
   "execution_count": 109,
   "id": "d5302801",
   "metadata": {},
   "outputs": [],
   "source": [
    "# Read the data donation\n",
    "\n",
    "donation= pd.read_excel(\"C:/Users/Gladys/Documents/1.Data Science Course/14. Class 14 - Project 3/data/Donations.xlsx\")"
   ]
  },
  {
   "cell_type": "code",
   "execution_count": 110,
   "id": "bec3e109",
   "metadata": {},
   "outputs": [
    {
     "data": {
      "text/html": [
       "<div>\n",
       "<style scoped>\n",
       "    .dataframe tbody tr th:only-of-type {\n",
       "        vertical-align: middle;\n",
       "    }\n",
       "\n",
       "    .dataframe tbody tr th {\n",
       "        vertical-align: top;\n",
       "    }\n",
       "\n",
       "    .dataframe thead th {\n",
       "        text-align: right;\n",
       "    }\n",
       "</style>\n",
       "<table border=\"1\" class=\"dataframe\">\n",
       "  <thead>\n",
       "    <tr style=\"text-align: right;\">\n",
       "      <th></th>\n",
       "      <th>Gender_Caller</th>\n",
       "      <th>Gender_Callee</th>\n",
       "      <th>Time_Slot_Called</th>\n",
       "      <th>Graduation_year</th>\n",
       "      <th>Donated_in_past</th>\n",
       "      <th>Donated_Amount</th>\n",
       "      <th>From_California</th>\n",
       "      <th>Day_ofCalling</th>\n",
       "    </tr>\n",
       "  </thead>\n",
       "  <tbody>\n",
       "    <tr>\n",
       "      <th>0</th>\n",
       "      <td>F</td>\n",
       "      <td>M</td>\n",
       "      <td>5PM-9PM</td>\n",
       "      <td>2004.0</td>\n",
       "      <td>N</td>\n",
       "      <td>25.00</td>\n",
       "      <td>Y</td>\n",
       "      <td>TUESDAY</td>\n",
       "    </tr>\n",
       "    <tr>\n",
       "      <th>1</th>\n",
       "      <td>F</td>\n",
       "      <td>F</td>\n",
       "      <td>5PM-9PM</td>\n",
       "      <td>1986.0</td>\n",
       "      <td>Y</td>\n",
       "      <td>20.00</td>\n",
       "      <td>Y</td>\n",
       "      <td>TUESDAY</td>\n",
       "    </tr>\n",
       "    <tr>\n",
       "      <th>2</th>\n",
       "      <td>F</td>\n",
       "      <td>F</td>\n",
       "      <td>5PM-9PM</td>\n",
       "      <td>2007.0</td>\n",
       "      <td>N</td>\n",
       "      <td>25.00</td>\n",
       "      <td>Y</td>\n",
       "      <td>TUESDAY</td>\n",
       "    </tr>\n",
       "    <tr>\n",
       "      <th>3</th>\n",
       "      <td>NaN</td>\n",
       "      <td>F</td>\n",
       "      <td>5PM-9PM</td>\n",
       "      <td>2008.0</td>\n",
       "      <td>N</td>\n",
       "      <td>20.00</td>\n",
       "      <td>Y</td>\n",
       "      <td>TUESDAY</td>\n",
       "    </tr>\n",
       "    <tr>\n",
       "      <th>4</th>\n",
       "      <td>F</td>\n",
       "      <td>F</td>\n",
       "      <td>5PM-9PM</td>\n",
       "      <td>2008.0</td>\n",
       "      <td>N</td>\n",
       "      <td>20.08</td>\n",
       "      <td>Y</td>\n",
       "      <td>TUESDAY</td>\n",
       "    </tr>\n",
       "    <tr>\n",
       "      <th>5</th>\n",
       "      <td>F</td>\n",
       "      <td>M</td>\n",
       "      <td>5PM-9PM</td>\n",
       "      <td>2008.0</td>\n",
       "      <td>N</td>\n",
       "      <td>20.08</td>\n",
       "      <td>Y</td>\n",
       "      <td>TUESDAY</td>\n",
       "    </tr>\n",
       "    <tr>\n",
       "      <th>6</th>\n",
       "      <td>F</td>\n",
       "      <td>F</td>\n",
       "      <td>5PM-9PM</td>\n",
       "      <td>2008.0</td>\n",
       "      <td>N</td>\n",
       "      <td>5.00</td>\n",
       "      <td>Y</td>\n",
       "      <td>TUESDAY</td>\n",
       "    </tr>\n",
       "    <tr>\n",
       "      <th>7</th>\n",
       "      <td>F</td>\n",
       "      <td>M</td>\n",
       "      <td>5PM-9PM</td>\n",
       "      <td>2003.0</td>\n",
       "      <td>N</td>\n",
       "      <td>25.00</td>\n",
       "      <td>Y</td>\n",
       "      <td>TUESDAY</td>\n",
       "    </tr>\n",
       "    <tr>\n",
       "      <th>8</th>\n",
       "      <td>F</td>\n",
       "      <td>F</td>\n",
       "      <td>5PM-9PM</td>\n",
       "      <td>2004.0</td>\n",
       "      <td>Y</td>\n",
       "      <td>20.00</td>\n",
       "      <td>Y</td>\n",
       "      <td>TUESDAY</td>\n",
       "    </tr>\n",
       "    <tr>\n",
       "      <th>9</th>\n",
       "      <td>F</td>\n",
       "      <td>M</td>\n",
       "      <td>5PM-9PM</td>\n",
       "      <td>2007.0</td>\n",
       "      <td>N</td>\n",
       "      <td>5.00</td>\n",
       "      <td>Y</td>\n",
       "      <td>TUESDAY</td>\n",
       "    </tr>\n",
       "  </tbody>\n",
       "</table>\n",
       "</div>"
      ],
      "text/plain": [
       "  Gender_Caller Gender_Callee Time_Slot_Called  Graduation_year  \\\n",
       "0             F             M          5PM-9PM           2004.0   \n",
       "1             F             F          5PM-9PM           1986.0   \n",
       "2             F             F          5PM-9PM           2007.0   \n",
       "3           NaN             F          5PM-9PM           2008.0   \n",
       "4             F             F          5PM-9PM           2008.0   \n",
       "5             F             M          5PM-9PM           2008.0   \n",
       "6             F             F          5PM-9PM           2008.0   \n",
       "7             F             M          5PM-9PM           2003.0   \n",
       "8             F             F          5PM-9PM           2004.0   \n",
       "9             F             M          5PM-9PM           2007.0   \n",
       "\n",
       "  Donated_in_past  Donated_Amount From_California Day_ofCalling  \n",
       "0               N           25.00               Y       TUESDAY  \n",
       "1               Y           20.00               Y       TUESDAY  \n",
       "2               N           25.00               Y       TUESDAY  \n",
       "3               N           20.00               Y       TUESDAY  \n",
       "4               N           20.08               Y       TUESDAY  \n",
       "5               N           20.08               Y       TUESDAY  \n",
       "6               N            5.00               Y       TUESDAY  \n",
       "7               N           25.00               Y       TUESDAY  \n",
       "8               Y           20.00               Y       TUESDAY  \n",
       "9               N            5.00               Y       TUESDAY  "
      ]
     },
     "execution_count": 110,
     "metadata": {},
     "output_type": "execute_result"
    }
   ],
   "source": [
    "donation.head(10) #I want to predict if the callee will donate so my output variable will be Donated_in_past"
   ]
  },
  {
   "cell_type": "code",
   "execution_count": 111,
   "id": "987c6297",
   "metadata": {},
   "outputs": [
    {
     "name": "stdout",
     "output_type": "stream",
     "text": [
      "<class 'pandas.core.frame.DataFrame'>\n",
      "RangeIndex: 194 entries, 0 to 193\n",
      "Data columns (total 8 columns):\n",
      " #   Column            Non-Null Count  Dtype  \n",
      "---  ------            --------------  -----  \n",
      " 0   Gender_Caller     152 non-null    object \n",
      " 1   Gender_Callee     194 non-null    object \n",
      " 2   Time_Slot_Called  194 non-null    object \n",
      " 3   Graduation_year   182 non-null    float64\n",
      " 4   Donated_in_past   183 non-null    object \n",
      " 5   Donated_Amount    194 non-null    float64\n",
      " 6   From_California   194 non-null    object \n",
      " 7   Day_ofCalling     194 non-null    object \n",
      "dtypes: float64(2), object(6)\n",
      "memory usage: 12.2+ KB\n"
     ]
    }
   ],
   "source": [
    "donation.info() #There are null values in the output variable Donated_in_past so I'll drop the rows with missing values"
   ]
  },
  {
   "cell_type": "code",
   "execution_count": 112,
   "id": "6444f35e",
   "metadata": {},
   "outputs": [
    {
     "data": {
      "text/plain": [
       "(194, 8)"
      ]
     },
     "execution_count": 112,
     "metadata": {},
     "output_type": "execute_result"
    }
   ],
   "source": [
    "donation.shape"
   ]
  },
  {
   "cell_type": "code",
   "execution_count": 113,
   "id": "233caa46",
   "metadata": {},
   "outputs": [],
   "source": [
    "donation = donation.dropna(subset=[\"Donated_in_past\"]) #Drop rows with missing values in Donated_in_past"
   ]
  },
  {
   "cell_type": "code",
   "execution_count": 114,
   "id": "75eb4161",
   "metadata": {},
   "outputs": [
    {
     "data": {
      "text/plain": [
       "(183, 8)"
      ]
     },
     "execution_count": 114,
     "metadata": {},
     "output_type": "execute_result"
    }
   ],
   "source": [
    "donation.shape # 11 rows less"
   ]
  },
  {
   "cell_type": "code",
   "execution_count": 115,
   "id": "8f1730dc",
   "metadata": {},
   "outputs": [
    {
     "name": "stdout",
     "output_type": "stream",
     "text": [
      "<class 'pandas.core.frame.DataFrame'>\n",
      "Int64Index: 183 entries, 0 to 193\n",
      "Data columns (total 8 columns):\n",
      " #   Column            Non-Null Count  Dtype  \n",
      "---  ------            --------------  -----  \n",
      " 0   Gender_Caller     141 non-null    object \n",
      " 1   Gender_Callee     183 non-null    object \n",
      " 2   Time_Slot_Called  183 non-null    object \n",
      " 3   Graduation_year   182 non-null    float64\n",
      " 4   Donated_in_past   183 non-null    object \n",
      " 5   Donated_Amount    183 non-null    float64\n",
      " 6   From_California   183 non-null    object \n",
      " 7   Day_ofCalling     183 non-null    object \n",
      "dtypes: float64(2), object(6)\n",
      "memory usage: 12.9+ KB\n"
     ]
    }
   ],
   "source": [
    "donation.info()"
   ]
  },
  {
   "cell_type": "code",
   "execution_count": 116,
   "id": "a6676066",
   "metadata": {},
   "outputs": [
    {
     "data": {
      "text/plain": [
       "F    121\n",
       "M     20\n",
       "Name: Gender_Caller, dtype: int64"
      ]
     },
     "execution_count": 116,
     "metadata": {},
     "output_type": "execute_result"
    }
   ],
   "source": [
    "donation[\"Gender_Caller\"].value_counts()"
   ]
  },
  {
   "cell_type": "code",
   "execution_count": 117,
   "id": "d09fb098",
   "metadata": {},
   "outputs": [
    {
     "data": {
      "text/html": [
       "<div>\n",
       "<style scoped>\n",
       "    .dataframe tbody tr th:only-of-type {\n",
       "        vertical-align: middle;\n",
       "    }\n",
       "\n",
       "    .dataframe tbody tr th {\n",
       "        vertical-align: top;\n",
       "    }\n",
       "\n",
       "    .dataframe thead th {\n",
       "        text-align: right;\n",
       "    }\n",
       "</style>\n",
       "<table border=\"1\" class=\"dataframe\">\n",
       "  <thead>\n",
       "    <tr style=\"text-align: right;\">\n",
       "      <th></th>\n",
       "      <th>Gender_Caller</th>\n",
       "      <th>Gender_Callee</th>\n",
       "      <th>Time_Slot_Called</th>\n",
       "      <th>Graduation_year</th>\n",
       "      <th>Donated_in_past</th>\n",
       "      <th>Donated_Amount</th>\n",
       "      <th>From_California</th>\n",
       "      <th>Day_ofCalling</th>\n",
       "    </tr>\n",
       "  </thead>\n",
       "  <tbody>\n",
       "    <tr>\n",
       "      <th>0</th>\n",
       "      <td>F</td>\n",
       "      <td>M</td>\n",
       "      <td>5PM-9PM</td>\n",
       "      <td>2004.0</td>\n",
       "      <td>N</td>\n",
       "      <td>25.00</td>\n",
       "      <td>Y</td>\n",
       "      <td>TUESDAY</td>\n",
       "    </tr>\n",
       "    <tr>\n",
       "      <th>1</th>\n",
       "      <td>F</td>\n",
       "      <td>F</td>\n",
       "      <td>5PM-9PM</td>\n",
       "      <td>1986.0</td>\n",
       "      <td>Y</td>\n",
       "      <td>20.00</td>\n",
       "      <td>Y</td>\n",
       "      <td>TUESDAY</td>\n",
       "    </tr>\n",
       "    <tr>\n",
       "      <th>2</th>\n",
       "      <td>F</td>\n",
       "      <td>F</td>\n",
       "      <td>5PM-9PM</td>\n",
       "      <td>2007.0</td>\n",
       "      <td>N</td>\n",
       "      <td>25.00</td>\n",
       "      <td>Y</td>\n",
       "      <td>TUESDAY</td>\n",
       "    </tr>\n",
       "    <tr>\n",
       "      <th>3</th>\n",
       "      <td>F</td>\n",
       "      <td>F</td>\n",
       "      <td>5PM-9PM</td>\n",
       "      <td>2008.0</td>\n",
       "      <td>N</td>\n",
       "      <td>20.00</td>\n",
       "      <td>Y</td>\n",
       "      <td>TUESDAY</td>\n",
       "    </tr>\n",
       "    <tr>\n",
       "      <th>4</th>\n",
       "      <td>F</td>\n",
       "      <td>F</td>\n",
       "      <td>5PM-9PM</td>\n",
       "      <td>2008.0</td>\n",
       "      <td>N</td>\n",
       "      <td>20.08</td>\n",
       "      <td>Y</td>\n",
       "      <td>TUESDAY</td>\n",
       "    </tr>\n",
       "    <tr>\n",
       "      <th>...</th>\n",
       "      <td>...</td>\n",
       "      <td>...</td>\n",
       "      <td>...</td>\n",
       "      <td>...</td>\n",
       "      <td>...</td>\n",
       "      <td>...</td>\n",
       "      <td>...</td>\n",
       "      <td>...</td>\n",
       "    </tr>\n",
       "    <tr>\n",
       "      <th>189</th>\n",
       "      <td>F</td>\n",
       "      <td>M</td>\n",
       "      <td>5PM-9PM</td>\n",
       "      <td>1973.0</td>\n",
       "      <td>Y</td>\n",
       "      <td>0.00</td>\n",
       "      <td>Y</td>\n",
       "      <td>SUNDAY</td>\n",
       "    </tr>\n",
       "    <tr>\n",
       "      <th>190</th>\n",
       "      <td>F</td>\n",
       "      <td>M</td>\n",
       "      <td>5PM-9PM</td>\n",
       "      <td>1981.0</td>\n",
       "      <td>Y</td>\n",
       "      <td>0.00</td>\n",
       "      <td>Y</td>\n",
       "      <td>SUNDAY</td>\n",
       "    </tr>\n",
       "    <tr>\n",
       "      <th>191</th>\n",
       "      <td>F</td>\n",
       "      <td>M</td>\n",
       "      <td>5PM-9PM</td>\n",
       "      <td>1995.0</td>\n",
       "      <td>Y</td>\n",
       "      <td>0.00</td>\n",
       "      <td>Y</td>\n",
       "      <td>SUNDAY</td>\n",
       "    </tr>\n",
       "    <tr>\n",
       "      <th>192</th>\n",
       "      <td>F</td>\n",
       "      <td>M</td>\n",
       "      <td>5PM-9PM</td>\n",
       "      <td>1949.0</td>\n",
       "      <td>Y</td>\n",
       "      <td>0.00</td>\n",
       "      <td>Y</td>\n",
       "      <td>SUNDAY</td>\n",
       "    </tr>\n",
       "    <tr>\n",
       "      <th>193</th>\n",
       "      <td>M</td>\n",
       "      <td>F</td>\n",
       "      <td>5PM-9PM</td>\n",
       "      <td>1970.0</td>\n",
       "      <td>Y</td>\n",
       "      <td>0.00</td>\n",
       "      <td>Y</td>\n",
       "      <td>SUNDAY</td>\n",
       "    </tr>\n",
       "  </tbody>\n",
       "</table>\n",
       "<p>183 rows × 8 columns</p>\n",
       "</div>"
      ],
      "text/plain": [
       "    Gender_Caller Gender_Callee Time_Slot_Called  Graduation_year  \\\n",
       "0               F             M          5PM-9PM           2004.0   \n",
       "1               F             F          5PM-9PM           1986.0   \n",
       "2               F             F          5PM-9PM           2007.0   \n",
       "3               F             F          5PM-9PM           2008.0   \n",
       "4               F             F          5PM-9PM           2008.0   \n",
       "..            ...           ...              ...              ...   \n",
       "189             F             M          5PM-9PM           1973.0   \n",
       "190             F             M          5PM-9PM           1981.0   \n",
       "191             F             M          5PM-9PM           1995.0   \n",
       "192             F             M          5PM-9PM           1949.0   \n",
       "193             M             F          5PM-9PM           1970.0   \n",
       "\n",
       "    Donated_in_past  Donated_Amount From_California Day_ofCalling  \n",
       "0                 N           25.00               Y       TUESDAY  \n",
       "1                 Y           20.00               Y       TUESDAY  \n",
       "2                 N           25.00               Y       TUESDAY  \n",
       "3                 N           20.00               Y       TUESDAY  \n",
       "4                 N           20.08               Y       TUESDAY  \n",
       "..              ...             ...             ...           ...  \n",
       "189               Y            0.00               Y        SUNDAY  \n",
       "190               Y            0.00               Y        SUNDAY  \n",
       "191               Y            0.00               Y        SUNDAY  \n",
       "192               Y            0.00               Y        SUNDAY  \n",
       "193               Y            0.00               Y        SUNDAY  \n",
       "\n",
       "[183 rows x 8 columns]"
      ]
     },
     "execution_count": 117,
     "metadata": {},
     "output_type": "execute_result"
    }
   ],
   "source": [
    "#I will assume that missing Gender_Caller are Female\n",
    "donation[\"Gender_Caller\"] = donation[\"Gender_Caller\"].fillna(\"F\")\n",
    "donation"
   ]
  },
  {
   "cell_type": "code",
   "execution_count": 118,
   "id": "3fa0dbba",
   "metadata": {},
   "outputs": [
    {
     "data": {
      "text/plain": [
       "F    163\n",
       "M     20\n",
       "Name: Gender_Caller, dtype: int64"
      ]
     },
     "execution_count": 118,
     "metadata": {},
     "output_type": "execute_result"
    }
   ],
   "source": [
    "donation_[\"Gender_Caller\"].value_counts()"
   ]
  },
  {
   "cell_type": "code",
   "execution_count": 119,
   "id": "cd8ab49f",
   "metadata": {},
   "outputs": [
    {
     "name": "stdout",
     "output_type": "stream",
     "text": [
      "<class 'pandas.core.frame.DataFrame'>\n",
      "Int64Index: 183 entries, 0 to 193\n",
      "Data columns (total 8 columns):\n",
      " #   Column            Non-Null Count  Dtype  \n",
      "---  ------            --------------  -----  \n",
      " 0   Gender_Caller     183 non-null    object \n",
      " 1   Gender_Callee     183 non-null    object \n",
      " 2   Time_Slot_Called  183 non-null    object \n",
      " 3   Graduation_year   182 non-null    float64\n",
      " 4   Donated_in_past   183 non-null    object \n",
      " 5   Donated_Amount    183 non-null    float64\n",
      " 6   From_California   183 non-null    object \n",
      " 7   Day_ofCalling     183 non-null    object \n",
      "dtypes: float64(2), object(6)\n",
      "memory usage: 12.9+ KB\n"
     ]
    }
   ],
   "source": [
    "donation_.info() #Information in complete"
   ]
  },
  {
   "cell_type": "code",
   "execution_count": 120,
   "id": "960932d5",
   "metadata": {},
   "outputs": [],
   "source": [
    "#Dummies for Gender_Caller, Gender_Callee,From_California. F=1; M=0;Y=1;N=0\n",
    "donation.Gender_Caller = donation.Gender_Caller.apply(lambda x: 1 if 'F' in x else 0)"
   ]
  },
  {
   "cell_type": "code",
   "execution_count": 121,
   "id": "18d41f82",
   "metadata": {},
   "outputs": [],
   "source": [
    "donation.Gender_Callee = donation.Gender_Callee.apply(lambda x: 1 if 'F' in x else 0)"
   ]
  },
  {
   "cell_type": "code",
   "execution_count": 122,
   "id": "ee932352",
   "metadata": {},
   "outputs": [],
   "source": [
    "donation.From_California = donation.From_California.apply(lambda x: 1 if 'Y' in x else 0)"
   ]
  },
  {
   "cell_type": "code",
   "execution_count": 123,
   "id": "5c353097",
   "metadata": {},
   "outputs": [
    {
     "data": {
      "text/html": [
       "<div>\n",
       "<style scoped>\n",
       "    .dataframe tbody tr th:only-of-type {\n",
       "        vertical-align: middle;\n",
       "    }\n",
       "\n",
       "    .dataframe tbody tr th {\n",
       "        vertical-align: top;\n",
       "    }\n",
       "\n",
       "    .dataframe thead th {\n",
       "        text-align: right;\n",
       "    }\n",
       "</style>\n",
       "<table border=\"1\" class=\"dataframe\">\n",
       "  <thead>\n",
       "    <tr style=\"text-align: right;\">\n",
       "      <th></th>\n",
       "      <th>Gender_Caller</th>\n",
       "      <th>Gender_Callee</th>\n",
       "      <th>Time_Slot_Called</th>\n",
       "      <th>Graduation_year</th>\n",
       "      <th>Donated_in_past</th>\n",
       "      <th>Donated_Amount</th>\n",
       "      <th>From_California</th>\n",
       "      <th>Day_ofCalling</th>\n",
       "    </tr>\n",
       "  </thead>\n",
       "  <tbody>\n",
       "    <tr>\n",
       "      <th>0</th>\n",
       "      <td>1</td>\n",
       "      <td>0</td>\n",
       "      <td>5PM-9PM</td>\n",
       "      <td>2004.0</td>\n",
       "      <td>N</td>\n",
       "      <td>25.00</td>\n",
       "      <td>1</td>\n",
       "      <td>TUESDAY</td>\n",
       "    </tr>\n",
       "    <tr>\n",
       "      <th>1</th>\n",
       "      <td>1</td>\n",
       "      <td>1</td>\n",
       "      <td>5PM-9PM</td>\n",
       "      <td>1986.0</td>\n",
       "      <td>Y</td>\n",
       "      <td>20.00</td>\n",
       "      <td>1</td>\n",
       "      <td>TUESDAY</td>\n",
       "    </tr>\n",
       "    <tr>\n",
       "      <th>2</th>\n",
       "      <td>1</td>\n",
       "      <td>1</td>\n",
       "      <td>5PM-9PM</td>\n",
       "      <td>2007.0</td>\n",
       "      <td>N</td>\n",
       "      <td>25.00</td>\n",
       "      <td>1</td>\n",
       "      <td>TUESDAY</td>\n",
       "    </tr>\n",
       "    <tr>\n",
       "      <th>3</th>\n",
       "      <td>1</td>\n",
       "      <td>1</td>\n",
       "      <td>5PM-9PM</td>\n",
       "      <td>2008.0</td>\n",
       "      <td>N</td>\n",
       "      <td>20.00</td>\n",
       "      <td>1</td>\n",
       "      <td>TUESDAY</td>\n",
       "    </tr>\n",
       "    <tr>\n",
       "      <th>4</th>\n",
       "      <td>1</td>\n",
       "      <td>1</td>\n",
       "      <td>5PM-9PM</td>\n",
       "      <td>2008.0</td>\n",
       "      <td>N</td>\n",
       "      <td>20.08</td>\n",
       "      <td>1</td>\n",
       "      <td>TUESDAY</td>\n",
       "    </tr>\n",
       "    <tr>\n",
       "      <th>...</th>\n",
       "      <td>...</td>\n",
       "      <td>...</td>\n",
       "      <td>...</td>\n",
       "      <td>...</td>\n",
       "      <td>...</td>\n",
       "      <td>...</td>\n",
       "      <td>...</td>\n",
       "      <td>...</td>\n",
       "    </tr>\n",
       "    <tr>\n",
       "      <th>189</th>\n",
       "      <td>1</td>\n",
       "      <td>0</td>\n",
       "      <td>5PM-9PM</td>\n",
       "      <td>1973.0</td>\n",
       "      <td>Y</td>\n",
       "      <td>0.00</td>\n",
       "      <td>1</td>\n",
       "      <td>SUNDAY</td>\n",
       "    </tr>\n",
       "    <tr>\n",
       "      <th>190</th>\n",
       "      <td>1</td>\n",
       "      <td>0</td>\n",
       "      <td>5PM-9PM</td>\n",
       "      <td>1981.0</td>\n",
       "      <td>Y</td>\n",
       "      <td>0.00</td>\n",
       "      <td>1</td>\n",
       "      <td>SUNDAY</td>\n",
       "    </tr>\n",
       "    <tr>\n",
       "      <th>191</th>\n",
       "      <td>1</td>\n",
       "      <td>0</td>\n",
       "      <td>5PM-9PM</td>\n",
       "      <td>1995.0</td>\n",
       "      <td>Y</td>\n",
       "      <td>0.00</td>\n",
       "      <td>1</td>\n",
       "      <td>SUNDAY</td>\n",
       "    </tr>\n",
       "    <tr>\n",
       "      <th>192</th>\n",
       "      <td>1</td>\n",
       "      <td>0</td>\n",
       "      <td>5PM-9PM</td>\n",
       "      <td>1949.0</td>\n",
       "      <td>Y</td>\n",
       "      <td>0.00</td>\n",
       "      <td>1</td>\n",
       "      <td>SUNDAY</td>\n",
       "    </tr>\n",
       "    <tr>\n",
       "      <th>193</th>\n",
       "      <td>0</td>\n",
       "      <td>1</td>\n",
       "      <td>5PM-9PM</td>\n",
       "      <td>1970.0</td>\n",
       "      <td>Y</td>\n",
       "      <td>0.00</td>\n",
       "      <td>1</td>\n",
       "      <td>SUNDAY</td>\n",
       "    </tr>\n",
       "  </tbody>\n",
       "</table>\n",
       "<p>183 rows × 8 columns</p>\n",
       "</div>"
      ],
      "text/plain": [
       "     Gender_Caller  Gender_Callee Time_Slot_Called  Graduation_year  \\\n",
       "0                1              0          5PM-9PM           2004.0   \n",
       "1                1              1          5PM-9PM           1986.0   \n",
       "2                1              1          5PM-9PM           2007.0   \n",
       "3                1              1          5PM-9PM           2008.0   \n",
       "4                1              1          5PM-9PM           2008.0   \n",
       "..             ...            ...              ...              ...   \n",
       "189              1              0          5PM-9PM           1973.0   \n",
       "190              1              0          5PM-9PM           1981.0   \n",
       "191              1              0          5PM-9PM           1995.0   \n",
       "192              1              0          5PM-9PM           1949.0   \n",
       "193              0              1          5PM-9PM           1970.0   \n",
       "\n",
       "    Donated_in_past  Donated_Amount  From_California Day_ofCalling  \n",
       "0                 N           25.00                1       TUESDAY  \n",
       "1                 Y           20.00                1       TUESDAY  \n",
       "2                 N           25.00                1       TUESDAY  \n",
       "3                 N           20.00                1       TUESDAY  \n",
       "4                 N           20.08                1       TUESDAY  \n",
       "..              ...             ...              ...           ...  \n",
       "189               Y            0.00                1        SUNDAY  \n",
       "190               Y            0.00                1        SUNDAY  \n",
       "191               Y            0.00                1        SUNDAY  \n",
       "192               Y            0.00                1        SUNDAY  \n",
       "193               Y            0.00                1        SUNDAY  \n",
       "\n",
       "[183 rows x 8 columns]"
      ]
     },
     "execution_count": 123,
     "metadata": {},
     "output_type": "execute_result"
    }
   ],
   "source": [
    "donation"
   ]
  },
  {
   "cell_type": "code",
   "execution_count": 124,
   "id": "94403da7",
   "metadata": {},
   "outputs": [],
   "source": [
    "#Train test split and standarize data before modelling\n",
    "\n",
    "from sklearn.model_selection import train_test_split\n",
    "from sklearn.preprocessing import StandardScaler\n",
    "\n",
    "X = donation[[\"Gender_Caller\", \"Gender_Callee\", \"From_California\"]]\n",
    "Y = donation[\"Donated_in_past\"]\n",
    "\n",
    "X_train, X_test, Y_train, Y_test = train_test_split(X, Y, test_size = .30, random_state = 42)\n",
    "\n",
    "scaler = StandardScaler()\n",
    "X_train = scaler.fit_transform(X_train)\n",
    "X_test = scaler.transform(X_test)"
   ]
  },
  {
   "cell_type": "code",
   "execution_count": 125,
   "id": "5a02d2ea",
   "metadata": {},
   "outputs": [
    {
     "name": "stdout",
     "output_type": "stream",
     "text": [
      "              precision    recall  f1-score   support\n",
      "\n",
      "           N       0.85      1.00      0.92        47\n",
      "           Y       0.00      0.00      0.00         8\n",
      "\n",
      "    accuracy                           0.85        55\n",
      "   macro avg       0.43      0.50      0.46        55\n",
      "weighted avg       0.73      0.85      0.79        55\n",
      "\n",
      "[[47  0]\n",
      " [ 8  0]]\n"
     ]
    },
    {
     "name": "stderr",
     "output_type": "stream",
     "text": [
      "C:\\Users\\Gladys\\anaconda3\\lib\\site-packages\\sklearn\\metrics\\_classification.py:1318: UndefinedMetricWarning: Precision and F-score are ill-defined and being set to 0.0 in labels with no predicted samples. Use `zero_division` parameter to control this behavior.\n",
      "  _warn_prf(average, modifier, msg_start, len(result))\n",
      "C:\\Users\\Gladys\\anaconda3\\lib\\site-packages\\sklearn\\metrics\\_classification.py:1318: UndefinedMetricWarning: Precision and F-score are ill-defined and being set to 0.0 in labels with no predicted samples. Use `zero_division` parameter to control this behavior.\n",
      "  _warn_prf(average, modifier, msg_start, len(result))\n",
      "C:\\Users\\Gladys\\anaconda3\\lib\\site-packages\\sklearn\\metrics\\_classification.py:1318: UndefinedMetricWarning: Precision and F-score are ill-defined and being set to 0.0 in labels with no predicted samples. Use `zero_division` parameter to control this behavior.\n",
      "  _warn_prf(average, modifier, msg_start, len(result))\n"
     ]
    }
   ],
   "source": [
    "##Import\n",
    "from sklearn.tree import DecisionTreeClassifier\n",
    "\n",
    "##Instantiate\n",
    "dtree = DecisionTreeClassifier()\n",
    "\n",
    "#Fit\n",
    "dtree.fit(X_train, Y_train)\n",
    "\n",
    "#predict\n",
    "Y_pred = dtree.predict(X_test)\n",
    "\n",
    "#Evaluate\n",
    "\n",
    "from sklearn.metrics import classification_report,confusion_matrix\n",
    "\n",
    "print(classification_report(Y_test,Y_pred))\n",
    "\n",
    "print(confusion_matrix(Y_test, Y_pred))"
   ]
  },
  {
   "cell_type": "code",
   "execution_count": 126,
   "id": "4130ce2f",
   "metadata": {},
   "outputs": [
    {
     "data": {
      "text/plain": [
       "3"
      ]
     },
     "execution_count": 126,
     "metadata": {},
     "output_type": "execute_result"
    }
   ],
   "source": [
    "# Depth is maximum distance between the root and any leaf.\n",
    "\n",
    "dtree.get_depth()"
   ]
  },
  {
   "cell_type": "code",
   "execution_count": 127,
   "id": "16dffd03",
   "metadata": {},
   "outputs": [
    {
     "data": {
      "text/plain": [
       "6"
      ]
     },
     "execution_count": 127,
     "metadata": {},
     "output_type": "execute_result"
    }
   ],
   "source": [
    "# Return the number of leaves of the decision tree\n",
    "dtree.get_n_leaves()"
   ]
  },
  {
   "cell_type": "code",
   "execution_count": 128,
   "id": "d76afe4a",
   "metadata": {},
   "outputs": [
    {
     "data": {
      "text/plain": [
       "array([0.35726824, 0.4431833 , 0.19954846])"
      ]
     },
     "execution_count": 128,
     "metadata": {},
     "output_type": "execute_result"
    }
   ],
   "source": [
    "# Return the feature importances.\n",
    "dtree.feature_importances_"
   ]
  },
  {
   "cell_type": "code",
   "execution_count": 130,
   "id": "4c845037",
   "metadata": {},
   "outputs": [
    {
     "data": {
      "image/png": "[encoded data removed]",
      "text/plain": [
       "<Figure size 1152x360 with 1 Axes>"
      ]
     },
     "metadata": {
      "needs_background": "light"
     },
     "output_type": "display_data"
    }
   ],
   "source": [
    "# Decision tree plot\n",
    "\n",
    "from sklearn.tree import plot_tree\n",
    "\n",
    "plt.figure(figsize = (16,5))\n",
    "plot_tree(dtree, filled = True, feature_names = [\"Gender_Caller\", \"Gender_Callee\", \"From_California\"], class_names = [\"Y\", \"N\"])\n",
    "plt.show()"
   ]
  },
  {
   "cell_type": "markdown",
   "id": "ff9ddd15",
   "metadata": {},
   "source": [
    "I think something is wrong because I obtain all Y in the tree but I don't know what is the problem. Also, I'm not sure how to read it. I believe that I understand the steps but not the interpretation. I need to look more into it."
   ]
  }
 ],
 "metadata": {
  "kernelspec": {
   "display_name": "Python 3 (ipykernel)",
   "language": "python",
   "name": "python3"
  },
  "language_info": {
   "codemirror_mode": {
    "name": "ipython",
    "version": 3
   },
   "file_extension": ".py",
   "mimetype": "text/x-python",
   "name": "python",
   "nbconvert_exporter": "python",
   "pygments_lexer": "ipython3",
   "version": "3.9.7"
  }
 },
 "nbformat": 4,
 "nbformat_minor": 5
}
